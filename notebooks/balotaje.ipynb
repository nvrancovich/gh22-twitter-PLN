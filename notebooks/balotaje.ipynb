{
  "nbformat": 4,
  "nbformat_minor": 0,
  "metadata": {
    "colab": {
      "provenance": [],
      "authorship_tag": "ABX9TyP4hlKyA8RdU6LsewAEwPIg",
      "include_colab_link": true
    },
    "kernelspec": {
      "name": "python3",
      "display_name": "Python 3"
    },
    "language_info": {
      "name": "python"
    }
  },
  "cells": [
    {
      "cell_type": "markdown",
      "metadata": {
        "id": "view-in-github",
        "colab_type": "text"
      },
      "source": [
        "<a href=\"https://colab.research.google.com/github/nvrancovich/gh22-twitter-PLN/blob/main/notebooks/balotaje.ipynb\" target=\"_parent\"><img src=\"https://colab.research.google.com/assets/colab-badge.svg\" alt=\"Open In Colab\"/></a>"
      ]
    },
    {
      "cell_type": "markdown",
      "source": [
        "# Corpus Balotaje\n",
        "\n",
        "En este notebook vamos a darle el formato que necesitamos al archivo con los tweets y sus polaridades sobre el balotaje argentino de 2015 encontrado en esta [página](https://zenodo.org/record/51496#.Y5sWTHbMLIV)."
      ],
      "metadata": {
        "id": "jL-IixY1zRZN"
      }
    },
    {
      "cell_type": "markdown",
      "source": [
        "## Importación"
      ],
      "metadata": {
        "id": "JDm09pV00Rl6"
      }
    },
    {
      "cell_type": "code",
      "source": [
        "import pandas as pd \n",
        "\n",
        "pd.set_option('display.max_colwidth', None)"
      ],
      "metadata": {
        "id": "Ov2UzoIs0I6I"
      },
      "execution_count": null,
      "outputs": []
    },
    {
      "cell_type": "code",
      "execution_count": null,
      "metadata": {
        "id": "d_jQFZMaggIM",
        "colab": {
          "base_uri": "https://localhost:8080/"
        },
        "outputId": "8cb48a62-0baa-49d9-deda-5d10434645de"
      },
      "outputs": [
        {
          "output_type": "stream",
          "name": "stdout",
          "text": [
            "Mounted at /content/gdrive/\n"
          ]
        }
      ],
      "source": [
        "from google.colab import drive\n",
        "\n",
        "drive.mount('/content/gdrive/', force_remount=True)"
      ]
    },
    {
      "cell_type": "code",
      "execution_count": null,
      "metadata": {
        "colab": {
          "base_uri": "https://localhost:8080/"
        },
        "id": "dAhtxcw9VmPa",
        "outputId": "15a1bfef-75fa-43eb-b672-f0c095bf63b2"
      },
      "outputs": [
        {
          "output_type": "stream",
          "name": "stdout",
          "text": [
            "/content/gdrive/MyDrive/proyectos/gh22-twitter-analisis/data\n"
          ]
        }
      ],
      "source": [
        "%cd gdrive/MyDrive/proyectos/gh22-twitter-analisis/data"
      ]
    },
    {
      "cell_type": "code",
      "source": [
        "%ls"
      ],
      "metadata": {
        "colab": {
          "base_uri": "https://localhost:8080/"
        },
        "id": "a0xD6oED1ZRy",
        "outputId": "79277d8e-29e1-4561-a337-e25ddf204da9"
      },
      "execution_count": null,
      "outputs": [
        {
          "output_type": "stream",
          "name": "stdout",
          "text": [
            "balotaje_raw.txt  tweets.csv\n"
          ]
        }
      ]
    },
    {
      "cell_type": "code",
      "source": [
        "with open('balotaje_raw.txt') as f:\n",
        "    lines = f.readlines()"
      ],
      "metadata": {
        "id": "yRf0f2uT1cVA"
      },
      "execution_count": null,
      "outputs": []
    },
    {
      "cell_type": "code",
      "source": [
        "lines[:15]"
      ],
      "metadata": {
        "colab": {
          "base_uri": "https://localhost:8080/"
        },
        "id": "E6wVrHYH1tT0",
        "outputId": "a3b1727f-dc39-42fa-e9a4-33918ca46c5e"
      },
      "execution_count": null,
      "outputs": [
        {
          "output_type": "execute_result",
          "data": {
            "text/plain": [
              "['                                                                         text                                                                         | sentiment_score \\n',\n",
              " '------------------------------------------------------------------------------------------------------------------------------------------------------+-----------------\\n',\n",
              " ' RT @EncuestaArgenta: 40 MILLONES ELEGIRÁN ENTRE EL #CAMBIO O LA #CONTINUIDAD\\n',\n",
              " ' #ScioliPresidente \\n',\n",
              " '#Balotaje2015  #MañanaVotoMACRI                     |               0\\n',\n",
              " ' Un nuevo amanecer historico para la Republica Argentina                                                                                              |               1\\n',\n",
              " ' RT @clarincom: ¿No sabés dónde votás? Consultá el padrón electoral ---&gt; https://t.co/gfOFjfzQNY https://t.co/iGy1T3JNFI                           |               0\\n',\n",
              " ' RT @JPZvaiks: Ballotage: serán aceptadas las boletas del 25 de octubre y las que no tengan fecha\\xa0\\n',\n",
              " '\\n',\n",
              " 'https://t.co/jC2VW968sh                           |               0\\n',\n",
              " ' La #segunda #fase de las #elecciones parlamentarias comienza en Egipto   https://t.co/DikIanh0tT                                                     |               0\\n',\n",
              " ' RT @sorluciacaram: Argentina hoy vota el cambio. Eso significa botar al Krichnerismo y sus secuaces @mauriciomacri                                   |              -1\\n',\n",
              " ' Es HOY. Es ACÁ. Es AHORA! #Cambiemos                                                                                                                 |               0\\n',\n",
              " ' RT @danielonk: Hoy se vota a ganador...\\n',\n",
              " '\\n']"
            ]
          },
          "metadata": {},
          "execution_count": 13
        }
      ]
    }
  ]
}