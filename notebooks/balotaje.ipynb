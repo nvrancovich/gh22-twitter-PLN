{
  "nbformat": 4,
  "nbformat_minor": 0,
  "metadata": {
    "colab": {
      "provenance": [],
      "authorship_tag": "ABX9TyPMygx8Rt8UkUGDACyYY4UB",
      "include_colab_link": true
    },
    "kernelspec": {
      "name": "python3",
      "display_name": "Python 3"
    },
    "language_info": {
      "name": "python"
    }
  },
  "cells": [
    {
      "cell_type": "markdown",
      "metadata": {
        "id": "view-in-github",
        "colab_type": "text"
      },
      "source": [
        "<a href=\"https://colab.research.google.com/github/nvrancovich/gh22-twitter-PLN/blob/main/notebooks/balotaje.ipynb\" target=\"_parent\"><img src=\"https://colab.research.google.com/assets/colab-badge.svg\" alt=\"Open In Colab\"/></a>"
      ]
    },
    {
      "cell_type": "markdown",
      "source": [
        "# Corpus Balotaje\n",
        "\n",
        "En este notebook vamos a darle el formato que necesitamos al archivo con los tweets y sus polaridades sobre el balotaje argentino de 2015 encontrado en esta [página](https://zenodo.org/record/51496#.Y5sWTHbMLIV)."
      ],
      "metadata": {
        "id": "jL-IixY1zRZN"
      }
    },
    {
      "cell_type": "code",
      "source": [
        "import pandas as pd \n",
        "\n",
        "pd.set_option('display.max_colwidth', None)"
      ],
      "metadata": {
        "id": "Ov2UzoIs0I6I"
      },
      "execution_count": 1,
      "outputs": []
    },
    {
      "cell_type": "code",
      "execution_count": 2,
      "metadata": {
        "id": "d_jQFZMaggIM",
        "colab": {
          "base_uri": "https://localhost:8080/"
        },
        "outputId": "0e31f32e-5663-47ee-dd9c-871f7bc3aa62"
      },
      "outputs": [
        {
          "output_type": "stream",
          "name": "stdout",
          "text": [
            "Mounted at /content/gdrive/\n"
          ]
        }
      ],
      "source": [
        "from google.colab import drive\n",
        "\n",
        "drive.mount('/content/gdrive/', force_remount=True)"
      ]
    },
    {
      "cell_type": "code",
      "execution_count": 3,
      "metadata": {
        "colab": {
          "base_uri": "https://localhost:8080/"
        },
        "id": "dAhtxcw9VmPa",
        "outputId": "6b256c59-b314-4d12-9a55-ba1b1a6e34c9"
      },
      "outputs": [
        {
          "output_type": "stream",
          "name": "stdout",
          "text": [
            "/content/gdrive/MyDrive/proyectos/gh22-twitter-analisis/data\n"
          ]
        }
      ],
      "source": [
        "%cd gdrive/MyDrive/proyectos/gh22-twitter-analisis/data"
      ]
    },
    {
      "cell_type": "code",
      "source": [
        "%ls"
      ],
      "metadata": {
        "colab": {
          "base_uri": "https://localhost:8080/"
        },
        "id": "a0xD6oED1ZRy",
        "outputId": "5c355739-0024-4a14-b669-b125e642bf7f"
      },
      "execution_count": 4,
      "outputs": [
        {
          "output_type": "stream",
          "name": "stdout",
          "text": [
            "balotaje_raw.txt  tweets.csv\n"
          ]
        }
      ]
    },
    {
      "cell_type": "code",
      "source": [
        "with open('balotaje_raw.txt') as f:\n",
        "    filas = f.readlines()\n",
        "filas = filas[2:983894]"
      ],
      "metadata": {
        "id": "yRf0f2uT1cVA"
      },
      "execution_count": 40,
      "outputs": []
    },
    {
      "cell_type": "code",
      "source": [
        "filas[:15]"
      ],
      "metadata": {
        "colab": {
          "base_uri": "https://localhost:8080/"
        },
        "id": "9XynZN_7Fxhe",
        "outputId": "ee14c451-df94-49f3-d67e-74a1d74a8d6b"
      },
      "execution_count": 51,
      "outputs": [
        {
          "output_type": "execute_result",
          "data": {
            "text/plain": [
              "[' RT @EncuestaArgenta: 40 MILLONES ELEGIRÁN ENTRE EL #CAMBIO O LA #CONTINUIDAD\\n',\n",
              " ' #ScioliPresidente \\n',\n",
              " '#Balotaje2015  #MañanaVotoMACRI                     |               0\\n',\n",
              " ' Un nuevo amanecer historico para la Republica Argentina                                                                                              |               1\\n',\n",
              " ' RT @clarincom: ¿No sabés dónde votás? Consultá el padrón electoral ---&gt; https://t.co/gfOFjfzQNY https://t.co/iGy1T3JNFI                           |               0\\n',\n",
              " ' RT @JPZvaiks: Ballotage: serán aceptadas las boletas del 25 de octubre y las que no tengan fecha\\xa0\\n',\n",
              " '\\n',\n",
              " 'https://t.co/jC2VW968sh                           |               0\\n',\n",
              " ' La #segunda #fase de las #elecciones parlamentarias comienza en Egipto   https://t.co/DikIanh0tT                                                     |               0\\n',\n",
              " ' RT @sorluciacaram: Argentina hoy vota el cambio. Eso significa botar al Krichnerismo y sus secuaces @mauriciomacri                                   |              -1\\n',\n",
              " ' Es HOY. Es ACÁ. Es AHORA! #Cambiemos                                                                                                                 |               0\\n',\n",
              " ' RT @danielonk: Hoy se vota a ganador...\\n',\n",
              " '\\n',\n",
              " '#MejorScioli \\n',\n",
              " '#YoVotoAScioli \\n']"
            ]
          },
          "metadata": {},
          "execution_count": 51
        }
      ]
    },
    {
      "cell_type": "code",
      "source": [
        "tweets = [[] for i in range(0,10000)]\n",
        "polaridades = []\n",
        "contador = 0\n",
        "for fila in filas[:100]:\n",
        "  partes = []\n",
        "  if \"|\" not in fila:\n",
        "    tweets[contador].append(fila)\n",
        "  else:\n",
        "    tweets[contador].append(fila)\n",
        "    contador += 1"
      ],
      "metadata": {
        "id": "dDWVjQU6Fowf"
      },
      "execution_count": 56,
      "outputs": []
    },
    {
      "cell_type": "code",
      "source": [
        "tweets[:100]"
      ],
      "metadata": {
        "colab": {
          "base_uri": "https://localhost:8080/"
        },
        "id": "LhDktDpCGhge",
        "outputId": "b639b568-d28d-4609-ba9f-d615ecf2b712"
      },
      "execution_count": 57,
      "outputs": [
        {
          "output_type": "execute_result",
          "data": {
            "text/plain": [
              "[[' RT @EncuestaArgenta: 40 MILLONES ELEGIRÁN ENTRE EL #CAMBIO O LA #CONTINUIDAD\\n',\n",
              "  ' #ScioliPresidente \\n',\n",
              "  '#Balotaje2015  #MañanaVotoMACRI                     |               0\\n'],\n",
              " [' Un nuevo amanecer historico para la Republica Argentina                                                                                              |               1\\n'],\n",
              " [' RT @clarincom: ¿No sabés dónde votás? Consultá el padrón electoral ---&gt; https://t.co/gfOFjfzQNY https://t.co/iGy1T3JNFI                           |               0\\n'],\n",
              " [' RT @JPZvaiks: Ballotage: serán aceptadas las boletas del 25 de octubre y las que no tengan fecha\\xa0\\n',\n",
              "  '\\n',\n",
              "  'https://t.co/jC2VW968sh                           |               0\\n'],\n",
              " [' La #segunda #fase de las #elecciones parlamentarias comienza en Egipto   https://t.co/DikIanh0tT                                                     |               0\\n'],\n",
              " [' RT @sorluciacaram: Argentina hoy vota el cambio. Eso significa botar al Krichnerismo y sus secuaces @mauriciomacri                                   |              -1\\n'],\n",
              " [' Es HOY. Es ACÁ. Es AHORA! #Cambiemos                                                                                                                 |               0\\n'],\n",
              " [' RT @danielonk: Hoy se vota a ganador...\\n',\n",
              "  '\\n',\n",
              "  '#MejorScioli \\n',\n",
              "  '#YoVotoAScioli \\n',\n",
              "  '#ScioliPresidente \\n',\n",
              "  '#Elecciones2015 https://t.co/H50003uZHQ                    |               1\\n'],\n",
              " [' DIÁLOGO Y CONSENSO\\n',\n",
              "  '\\n',\n",
              "  'PROPUESTA CONCRETA: Scioli es el candidato del consenso, el mismo Scioli de siempre, el que... https://t.co/rJW0yU5G1Q           |               0\\n'],\n",
              " [' @C5N: registrate y vota por @coldplay en https://t.co/SJXU596fvv #videos                                                                             |               0\\n'],\n",
              " [' RT @mauriciomacri: Les pido que no nos resignemos a vivir tras las rejas. Volvamos a trabajar juntos para recuperar la paz y la tranquilida…         |               1\\n'],\n",
              " [' El hielo profundo se derrite más rápido y temen que libere CO2 - Los Andes (Argentina) Altuve https://t.co/6wH1VT1XLL                                |               1\\n'],\n",
              " [' @SDalmaoficial Buenos días. Hoy es el #DiaDeLaMusica y tenemos la alegría d tu llegada a Argentina. Nos vemos mañana en la. Cena d @Vale975          |               1\\n'],\n",
              " [' RT @rocitorrente: @LucasPortillo8 no hay duda que la B nacional es el campeonato más apasionante, y más federal que la copa argentina no ha…         |               1\\n'],\n",
              " [' RT @carlosbusqued: el misterioso equipo económico de macri: hambre, guerra peste y muerte. no tengas miedo.                                          |              -1\\n'],\n",
              " [' Hoy todas las líneas de #subte y el #Premetro funcionarán desde las 6:30 h por el #Balotaje https://t.co/11VTqO7It0                                  |               1\\n'],\n",
              " [' TT ARGENTINA 06:00\\n',\n",
              "  '1.#DomingoDeGanarSeguidores\\n',\n",
              "  '2.#HoyVotoMACRI\\n',\n",
              "  '3.#CottoCanelo\\n',\n",
              "  '4.#EnMiUltimaBorracheraYo\\n',\n",
              "  '5.Mica Tus Micaelistos Te Aman               |               1\\n'],\n",
              " [' ¿Por qué me va tan mal?\\n',\n",
              "  'Ahh, pero el día antes del balotaje paso de largo.                                                                           |               0\\n'],\n",
              " [' #VideoVTV | Mario Silva: Ojalá la clase media de Argentina sepa lo que está en riesgo https://t.co/WPAC797N7p https://t.co/ikCHNdjRFc                |               1\\n'],\n",
              " [' @mauriciomacri Sr.Macri desde Venezuela le enviamos miles de bendiciones y hoy se consolide su triunfo a la presidencia de Argentina                 |               1\\n'],\n",
              " [' RT @antogrillo: No puedo dormir!!! Cuánta pasión tienen mis compañeros!!! Si no estás de este lado, imposible que lo entiendas! #YoVotoASci…         |               1\\n'],\n",
              " [' FALTAN HORAS PARA EL INICIO DEL PRIMER BALOTAJE PRESIDENCIAL EN LA HISTORIA DE LA ARGENTINA https://t.co/ZfhYbB07mu vía @rickiromano                 |               1\\n'],\n",
              " [' Hoy se vota a @danielscioli #ScioliPresidente #MejorScioli @rabolinikarina                                                                           |               0\\n'],\n",
              " [' RT @marquesqt: Retweeted Fabiana HLVS (@Fabiana_tfp):\\n',\n",
              "  '\\n',\n",
              "  'Hermanos españoles, #YoVotoAScioli xq NO quiero d presidente a Macri,... https://t.c…         |              -1\\n'],\n",
              " [' #Eleccion2015 📩: \\n',\n",
              "  '- Si no votaste en las elecciones PASO y/o Generales, se te permitirá votar en la segunda vuelta.                                  |               0\\n'],\n",
              " [' La Cámara de España abre otra vez la puerta giratoria ante las elecciones del 20-D\\n',\n",
              "  'https://t.co/e2Hu1f4zKn                                           |               0\\n'],\n",
              " [' faltan 17d17h59m Scioli propone formar 100 mil nuevos efectivos policiales. #YoNoVotoProcesados #MOK                                                 |               1\\n'],\n",
              " [' Es como ir a Argentina y no llevar explosivos.                                                                                                       |               1\\n'],\n",
              " [' FALTAN HORAS PARA EL INICIO DEL PRIMER BALOTAJE PRESIDENCIAL EN LA HISTORIA DE LA ARGENTINA https://t.co/XdsTftTlMA vía @rickiromano                 |               1\\n'],\n",
              " [' @mauriciomacri, hoy te convertís en Héroe!!!\\n',\n",
              "  '#MacriPresidente https://t.co/P0wxMkbwy2                                                                |               1\\n'],\n",
              " [' #ElTribuno #BALOTAJE2015 Con Daniel Scioli o Mauricio Macri el país inicia un nuevo ciclo\\n',\n",
              "  'https://t.co/4UvTsk1qbc https://t.co/6AmlvX19ez            |               0\\n'],\n",
              " [' Supersticiones que generarían desgracia https://t.co/Pzihv4ryQX\\xa0\\xa0#españa #venezuela #argentina #colombia #chile #USA https://t.co/3DBlkX1XsF         |              -1\\n'],\n",
              " [' Porque tenemos Patria y sueños que realizar voto @danielscioli  \\n',\n",
              "  '\\n',\n",
              "  '#VotoaScioli - Scioli Presidente                                                   |               1\\n'],\n",
              " [' A fiscalizar al Conurbano #CAMBIEMOS https://t.co/c13Sso3LAJ                                                                                         |               0\\n'],\n",
              " [' 6. Twitteros Plagueros\\n',\n",
              "  '7. LUCAS CASTEL PELOTUDO\\n',\n",
              "  '8. #ManijaPorJapon\\n',\n",
              "  '9. Laleuge\\n',\n",
              "  '10. Puerto Rico\\n',\n",
              "  '\\n',\n",
              "  '2015/11/22 05:53 ART https://t.co/Zdrt4tAWye          |               1\\n'],\n",
              " [' #HoyVotoMacri #MacriPresidente #Cambiemos por una Argentina mejor!!!                                                                                 |               1\\n'],\n",
              " [' RT @globomedia: ¿Cuáles son sus principales propuestas?¿Con quién pactará tras el 20D? @Albert_Rivera contesta mañana a @_anapastor_ https:…         |               0\\n'],\n",
              " [' RT @nikanorfeo: En este dia histórico para nuestro Pais, me levanto convencido que lo mejor Hoy, es @danielscioli  #QueGaneScioli https://t…         |               1\\n'],\n",
              " [' RT @agusdatorre: SI LA BOLETA NO TIENE LOS NÚMEROS EN LA PARTE SUPERIOR, EL VOTO ES INVÁLIDO. #Elecciones2015 \\n',\n",
              "  'RT PARA DIFUNDIR https://t.c…         |              -1\\n'],\n",
              " [' RT @solesalva: FALTAN AÚN 18 días para q termine el mandato la presidente mas chorra y KORRUPTA d la historia Argentina https://t.co/LqbLCn…         |               1\\n'],\n",
              " [' @rrrochusm_ y quien te dijo que voy a votar a scioli capa??                                                                                          |               0\\n'],\n",
              " [' @C5N @jdiazok @BallesterDani #Elecciones2015 @robdnavarro si gana @mauriciomacri serán opositores??? O panquekazzzzzzo?? Depende la pauta??          |              -1\\n'],\n",
              " [' @danielscioli @rabolinikarina @LorenaScioli LA DE NUESTRO PUEBLO, QUE HOY QUIERE DARLE LO QUE DIOS LE HABIA QUITADO.                                 |               1\\n'],\n",
              " [' RT @clarincom: [ANTICIPO] Si gana el balotaje, Macri designará a Marcos Peña como jefe de Gabinete https://t.co/2tjbgcb8dX https://t.co/8pZ…         |              -1\\n'],\n",
              " [' RT @Frida_1310: #YoBancoAScioli Un ministro de economía del j p morgan? Ese cambio NO NO NO! https://t.co/CLUx4C2j4Z https://t.co/FGo74Osfat         |               0\\n'],\n",
              " [' Mi Tweet más retwitteado https://t.co/98cpp5jOmU 4 RTs [últimas 24h] #TuitUtil https://t.co/4evl0aT4O8                                               |               0\\n'],\n",
              " [' RT @miguelpavlovsky: RT lautaromauro: #ScioliPresidente #MejorScioli #YoVotoAScioli https://t.co/gNnhgq1MI8                                          |               0\\n'],\n",
              " [' #HoyVotoMACRI porque de Scioli no escuche ningún proyecto, y tampoco le creería; razones a la vista en Bs As                                         |               0\\n'],\n",
              " [' #sealds #ふるえる #招待 Ballotage: Mauricio Macri llega como el favorito, Daniel Scioli como el retador   https://t.co/osadqG2fCq                    |               1\\n'],\n",
              " [' Los argentinos eligen nuevo presidente en una histórica segunda vuelta electoral: Daniel Scioli y Mauricio Mac... https://t.co/oVygaw0AFw            |               1\\n'],\n",
              " [' RT @venezolanoenpie: A los hermanos de Argentina!\\n',\n",
              "  '\\n',\n",
              "  'Desde Venezuela los invitamos a cambiar https://t.co/8tVyRJCt0b                                   |               1\\n'],\n",
              " [' Argentina cierra la “era Kirchner” y elige presidente este domingo en segunda vuelta https://t.co/IfE1OjWYyC                                         |               1\\n'],\n",
              " [' RT @GonzaaFonseca: quien manda en Argentina ?                                                                                                        |               1\\n'],\n",
              " [' Voy a dormir pensando en que mañana es lunes y que pase a 5to y que gano macri.                                                                      |               1\\n'],\n",
              " [' RT @MartinNMaiolo: El primer ballotaje de la Argentina, invito a todos los argentinos a que vayan a votar con alegría, tenemos Democracia! …         |               1\\n'],\n",
              " [' RT @_uruguay: Elecciones #Argentina!!!\\n',\n",
              "  '\\n',\n",
              "  'RT= si queres que gane #Macri\\n',\n",
              "  '\\n',\n",
              "  'Me gusta= si queres que gane #Scioli \\n',\n",
              "  '\\n',\n",
              "  '#Encuesta #Uruguay https://t.…         |               1\\n'],\n",
              " [' Nuestras charlas fueron en torno de a quien íbamos a votar y porque.. Estas elecciones nos dejan manijas a todos                                     |               0\\n'],\n",
              " [' Basta de esto #Cambiemos hoy empieza el trabajo por un pais justo y una justicia independiente https://t.co/0wgoI91ljN                               |               1\\n'],\n",
              " [' RT @sergioranieri: Prat-Gay fue confirmado por Macri como su ministro de Economía. \\n',\n",
              "  '#Cambiemos (con soda cáustica y vidrio molido) \\n'],\n",
              " [],\n",
              " [],\n",
              " [],\n",
              " [],\n",
              " [],\n",
              " [],\n",
              " [],\n",
              " [],\n",
              " [],\n",
              " [],\n",
              " [],\n",
              " [],\n",
              " [],\n",
              " [],\n",
              " [],\n",
              " [],\n",
              " [],\n",
              " [],\n",
              " [],\n",
              " [],\n",
              " [],\n",
              " [],\n",
              " [],\n",
              " [],\n",
              " [],\n",
              " [],\n",
              " [],\n",
              " [],\n",
              " [],\n",
              " [],\n",
              " [],\n",
              " [],\n",
              " [],\n",
              " [],\n",
              " [],\n",
              " [],\n",
              " [],\n",
              " [],\n",
              " [],\n",
              " [],\n",
              " []]"
            ]
          },
          "metadata": {},
          "execution_count": 57
        }
      ]
    },
    {
      "cell_type": "code",
      "source": [],
      "metadata": {
        "id": "Z1_VUXv6JE5L"
      },
      "execution_count": null,
      "outputs": []
    }
  ]
}