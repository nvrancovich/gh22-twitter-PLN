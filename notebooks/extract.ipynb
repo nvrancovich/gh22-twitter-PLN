{
 "cells": [
  {
   "cell_type": "code",
   "execution_count": 1,
   "metadata": {
    "colab": {
     "background_save": true
    },
    "id": "29KbzktLLpT1"
   },
   "outputs": [],
   "source": [
    "import snscrape.modules.twitter as sntwitter\n",
    "import pandas as pd\n",
    "from IPython.display import clear_output"
   ]
  },
  {
   "cell_type": "code",
   "execution_count": 2,
   "metadata": {
    "id": "YR95GStNLzDV"
   },
   "outputs": [
    {
     "name": "stdout",
     "output_type": "stream",
     "text": [
      "2022-10-15 00:08:20+00:00\n",
      "2639677\n",
      "CPU times: user 1h 57min 32s, sys: 15min 52s, total: 2h 13min 25s\n",
      "Wall time: 1d 12h 48min 52s\n"
     ]
    }
   ],
   "source": [
    "%%time\n",
    "\n",
    "query = \"(#GH22 OR #GH2022) lang:es since:2022-10-15\"\n",
    "tweets = []\n",
    "\n",
    "for tweet in sntwitter.TwitterSearchScraper(query).get_items():\n",
    "        clear_output(wait=True)\n",
    "        tweets.append([tweet.date, tweet.content])\n",
    "        print(tweet.date)\n",
    "        print(len(tweets))\n",
    "        \n",
    "        \n",
    "df = pd.DataFrame(tweets, columns=['Date', 'Tweet'])"
   ]
  },
  {
   "cell_type": "code",
   "execution_count": 3,
   "metadata": {},
   "outputs": [],
   "source": [
    "df.Date = pd.to_datetime(df.Date)\n",
    "df.Date = df.Date - pd.Timedelta(hours=3)"
   ]
  },
  {
   "cell_type": "code",
   "execution_count": 4,
   "metadata": {
    "id": "QNyk5ATWHVdk"
   },
   "outputs": [
    {
     "data": {
      "text/html": [
       "<div>\n",
       "<style scoped>\n",
       "    .dataframe tbody tr th:only-of-type {\n",
       "        vertical-align: middle;\n",
       "    }\n",
       "\n",
       "    .dataframe tbody tr th {\n",
       "        vertical-align: top;\n",
       "    }\n",
       "\n",
       "    .dataframe thead th {\n",
       "        text-align: right;\n",
       "    }\n",
       "</style>\n",
       "<table border=\"1\" class=\"dataframe\">\n",
       "  <thead>\n",
       "    <tr style=\"text-align: right;\">\n",
       "      <th></th>\n",
       "      <th>Date</th>\n",
       "      <th>Tweet</th>\n",
       "    </tr>\n",
       "  </thead>\n",
       "  <tbody>\n",
       "    <tr>\n",
       "      <th>0</th>\n",
       "      <td>2022-12-17 22:11:45+00:00</td>\n",
       "      <td>Que paso con @MatiasSchrank ??? \\n#gh2022 #gh2...</td>\n",
       "    </tr>\n",
       "    <tr>\n",
       "      <th>1</th>\n",
       "      <td>2022-12-17 22:11:33+00:00</td>\n",
       "      <td>Conejo diciendo que si Coti le atraía hate la ...</td>\n",
       "    </tr>\n",
       "    <tr>\n",
       "      <th>2</th>\n",
       "      <td>2022-12-17 22:11:28+00:00</td>\n",
       "      <td>🤡🤡 así quedamos los que queríamos que entre la...</td>\n",
       "    </tr>\n",
       "    <tr>\n",
       "      <th>3</th>\n",
       "      <td>2022-12-17 22:11:27+00:00</td>\n",
       "      <td>Qué cagón es el conejo, puro físico al pedo, r...</td>\n",
       "    </tr>\n",
       "    <tr>\n",
       "      <th>4</th>\n",
       "      <td>2022-12-17 22:11:25+00:00</td>\n",
       "      <td>Este gordo dijo que nos iba a divertir y ahí l...</td>\n",
       "    </tr>\n",
       "    <tr>\n",
       "      <th>...</th>\n",
       "      <td>...</td>\n",
       "      <td>...</td>\n",
       "    </tr>\n",
       "    <tr>\n",
       "      <th>2639672</th>\n",
       "      <td>2022-10-15 01:31:19+00:00</td>\n",
       "      <td>#GH2022 se los come vivos. No digan que no avi...</td>\n",
       "    </tr>\n",
       "    <tr>\n",
       "      <th>2639673</th>\n",
       "      <td>2022-10-15 00:40:26+00:00</td>\n",
       "      <td>Me pasan por la cuca que @MatiasSchrank subcam...</td>\n",
       "    </tr>\n",
       "    <tr>\n",
       "      <th>2639674</th>\n",
       "      <td>2022-10-15 00:11:00+00:00</td>\n",
       "      <td>#DebateDelViernes, los extrañe el viernes pasa...</td>\n",
       "    </tr>\n",
       "    <tr>\n",
       "      <th>2639675</th>\n",
       "      <td>2022-10-14 21:11:16+00:00</td>\n",
       "      <td>🔥Nueva Promo\\n\\nDesde Próximo Lunes A Las 21:4...</td>\n",
       "    </tr>\n",
       "    <tr>\n",
       "      <th>2639676</th>\n",
       "      <td>2022-10-14 21:08:20+00:00</td>\n",
       "      <td>Les dejo los videos de esta noche para que est...</td>\n",
       "    </tr>\n",
       "  </tbody>\n",
       "</table>\n",
       "<p>2639677 rows × 2 columns</p>\n",
       "</div>"
      ],
      "text/plain": [
       "                             Date  \\\n",
       "0       2022-12-17 22:11:45+00:00   \n",
       "1       2022-12-17 22:11:33+00:00   \n",
       "2       2022-12-17 22:11:28+00:00   \n",
       "3       2022-12-17 22:11:27+00:00   \n",
       "4       2022-12-17 22:11:25+00:00   \n",
       "...                           ...   \n",
       "2639672 2022-10-15 01:31:19+00:00   \n",
       "2639673 2022-10-15 00:40:26+00:00   \n",
       "2639674 2022-10-15 00:11:00+00:00   \n",
       "2639675 2022-10-14 21:11:16+00:00   \n",
       "2639676 2022-10-14 21:08:20+00:00   \n",
       "\n",
       "                                                     Tweet  \n",
       "0        Que paso con @MatiasSchrank ??? \\n#gh2022 #gh2...  \n",
       "1        Conejo diciendo que si Coti le atraía hate la ...  \n",
       "2        🤡🤡 así quedamos los que queríamos que entre la...  \n",
       "3        Qué cagón es el conejo, puro físico al pedo, r...  \n",
       "4        Este gordo dijo que nos iba a divertir y ahí l...  \n",
       "...                                                    ...  \n",
       "2639672  #GH2022 se los come vivos. No digan que no avi...  \n",
       "2639673  Me pasan por la cuca que @MatiasSchrank subcam...  \n",
       "2639674  #DebateDelViernes, los extrañe el viernes pasa...  \n",
       "2639675  🔥Nueva Promo\\n\\nDesde Próximo Lunes A Las 21:4...  \n",
       "2639676  Les dejo los videos de esta noche para que est...  \n",
       "\n",
       "[2639677 rows x 2 columns]"
      ]
     },
     "execution_count": 4,
     "metadata": {},
     "output_type": "execute_result"
    }
   ],
   "source": [
    "df"
   ]
  },
  {
   "cell_type": "code",
   "execution_count": 5,
   "metadata": {
    "id": "GgAgz7zN0ksO"
   },
   "outputs": [],
   "source": [
    "df.to_csv(\"tweets.csv\")"
   ]
  }
 ],
 "metadata": {
  "colab": {
   "authorship_tag": "ABX9TyO32la42yaPrvA5QPGD1UJb",
   "include_colab_link": true,
   "provenance": []
  },
  "kernelspec": {
   "display_name": "Python 3 (ipykernel)",
   "language": "python",
   "name": "python3"
  },
  "language_info": {
   "codemirror_mode": {
    "name": "ipython",
    "version": 3
   },
   "file_extension": ".py",
   "mimetype": "text/x-python",
   "name": "python",
   "nbconvert_exporter": "python",
   "pygments_lexer": "ipython3",
   "version": "3.10.6"
  }
 },
 "nbformat": 4,
 "nbformat_minor": 1
}
