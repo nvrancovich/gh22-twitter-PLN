{
  "nbformat": 4,
  "nbformat_minor": 0,
  "metadata": {
    "colab": {
      "provenance": [],
      "authorship_tag": "ABX9TyNnbbiAlZ0K+IhVk5wBXTQM",
      "include_colab_link": true
    },
    "kernelspec": {
      "name": "python3",
      "display_name": "Python 3"
    },
    "language_info": {
      "name": "python"
    }
  },
  "cells": [
    {
      "cell_type": "markdown",
      "metadata": {
        "id": "view-in-github",
        "colab_type": "text"
      },
      "source": [
        "<a href=\"https://colab.research.google.com/github/nvrancovich/gh22-twitter-PLN/blob/main/notebooks/balotaje.ipynb\" target=\"_parent\"><img src=\"https://colab.research.google.com/assets/colab-badge.svg\" alt=\"Open In Colab\"/></a>"
      ]
    },
    {
      "cell_type": "markdown",
      "source": [
        "# Corpus Balotaje\n",
        "\n",
        "En este notebook voy a darle el formato que necesitamos al archivo con los tweets y sus polaridades sobre el balotaje argentino de 2015 encontrado en esta [página](https://zenodo.org/record/51496#.Y5sWTHbMLIV)."
      ],
      "metadata": {
        "id": "jL-IixY1zRZN"
      }
    },
    {
      "cell_type": "code",
      "source": [
        "import pandas as pd \n",
        "\n",
        "pd.set_option('display.max_colwidth', None)"
      ],
      "metadata": {
        "id": "Ov2UzoIs0I6I"
      },
      "execution_count": 6,
      "outputs": []
    },
    {
      "cell_type": "code",
      "execution_count": 7,
      "metadata": {
        "id": "d_jQFZMaggIM",
        "colab": {
          "base_uri": "https://localhost:8080/"
        },
        "outputId": "6d95afa1-f579-4b42-a0f9-f43c9da35338"
      },
      "outputs": [
        {
          "output_type": "stream",
          "name": "stdout",
          "text": [
            "Mounted at /content/gdrive/\n"
          ]
        }
      ],
      "source": [
        "from google.colab import drive\n",
        "\n",
        "drive.mount('/content/gdrive/', force_remount=True)"
      ]
    },
    {
      "cell_type": "code",
      "execution_count": 8,
      "metadata": {
        "colab": {
          "base_uri": "https://localhost:8080/"
        },
        "id": "dAhtxcw9VmPa",
        "outputId": "364330f0-9340-4e98-ffac-65e861515139"
      },
      "outputs": [
        {
          "output_type": "stream",
          "name": "stdout",
          "text": [
            "/content/gdrive/MyDrive/proyectos/gh22-twitter-analisis/data\n"
          ]
        }
      ],
      "source": [
        "%cd gdrive/MyDrive/proyectos/gh22-twitter-analisis/data"
      ]
    },
    {
      "cell_type": "code",
      "source": [
        "%ls"
      ],
      "metadata": {
        "colab": {
          "base_uri": "https://localhost:8080/"
        },
        "id": "a0xD6oED1ZRy",
        "outputId": "79202e9b-d622-47c9-adf9-89e5f4816d75"
      },
      "execution_count": 9,
      "outputs": [
        {
          "output_type": "stream",
          "name": "stdout",
          "text": [
            "balotaje_raw.txt  tweets.csv\n"
          ]
        }
      ]
    },
    {
      "cell_type": "code",
      "source": [
        "with open('balotaje_raw.txt') as f:\n",
        "    filas = f.readlines()\n",
        "filas = filas[2:983894]"
      ],
      "metadata": {
        "id": "yRf0f2uT1cVA"
      },
      "execution_count": 71,
      "outputs": []
    },
    {
      "cell_type": "code",
      "source": [
        "filas[:15]"
      ],
      "metadata": {
        "colab": {
          "base_uri": "https://localhost:8080/"
        },
        "id": "9XynZN_7Fxhe",
        "outputId": "d5db5c82-9d40-4980-9dc8-153fec5c9b0a"
      },
      "execution_count": 65,
      "outputs": [
        {
          "output_type": "execute_result",
          "data": {
            "text/plain": [
              "[' RT @EncuestaArgenta: 40 MILLONES ELEGIRÁN ENTRE EL #CAMBIO O LA #CONTINUIDAD\\n',\n",
              " ' #ScioliPresidente \\n',\n",
              " '#Balotaje2015  #MañanaVotoMACRI                     |               0\\n',\n",
              " ' Un nuevo amanecer historico para la Republica Argentina                                                                                              |               1\\n',\n",
              " ' RT @clarincom: ¿No sabés dónde votás? Consultá el padrón electoral ---&gt; https://t.co/gfOFjfzQNY https://t.co/iGy1T3JNFI                           |               0\\n',\n",
              " ' RT @JPZvaiks: Ballotage: serán aceptadas las boletas del 25 de octubre y las que no tengan fecha\\xa0\\n',\n",
              " '\\n',\n",
              " 'https://t.co/jC2VW968sh                           |               0\\n',\n",
              " ' La #segunda #fase de las #elecciones parlamentarias comienza en Egipto   https://t.co/DikIanh0tT                                                     |               0\\n',\n",
              " ' RT @sorluciacaram: Argentina hoy vota el cambio. Eso significa botar al Krichnerismo y sus secuaces @mauriciomacri                                   |              -1\\n',\n",
              " ' Es HOY. Es ACÁ. Es AHORA! #Cambiemos                                                                                                                 |               0\\n',\n",
              " ' RT @danielonk: Hoy se vota a ganador...\\n',\n",
              " '\\n',\n",
              " '#MejorScioli \\n',\n",
              " '#YoVotoAScioli \\n']"
            ]
          },
          "metadata": {},
          "execution_count": 65
        }
      ]
    },
    {
      "cell_type": "code",
      "source": [
        "tweets = [[] for i in range(0,1000000)]\n",
        "polaridades = []\n",
        "contador = 0\n",
        "for fila in filas:\n",
        "  partes = []\n",
        "  if \"|\" not in fila:\n",
        "    tweets[contador].append(fila)\n",
        "  else:\n",
        "    tweets[contador].append(fila)\n",
        "    contador += 1"
      ],
      "metadata": {
        "id": "dDWVjQU6Fowf"
      },
      "execution_count": 125,
      "outputs": []
    },
    {
      "cell_type": "code",
      "source": [
        "tweets[:10]"
      ],
      "metadata": {
        "colab": {
          "base_uri": "https://localhost:8080/"
        },
        "id": "PF3OVrc7bSbc",
        "outputId": "fd847593-572b-4c5c-8904-f64cc14c87d5"
      },
      "execution_count": 137,
      "outputs": [
        {
          "output_type": "execute_result",
          "data": {
            "text/plain": [
              "[[' RT @EncuestaArgenta: 40 MILLONES ELEGIRÁN ENTRE EL #CAMBIO O LA #CONTINUIDAD\\n',\n",
              "  ' #ScioliPresidente \\n',\n",
              "  '#Balotaje2015  #MañanaVotoMACRI                     |               0\\n'],\n",
              " [' Un nuevo amanecer historico para la Republica Argentina                                                                                              |               1\\n'],\n",
              " [' RT @clarincom: ¿No sabés dónde votás? Consultá el padrón electoral ---&gt; https://t.co/gfOFjfzQNY https://t.co/iGy1T3JNFI                           |               0\\n'],\n",
              " [' RT @JPZvaiks: Ballotage: serán aceptadas las boletas del 25 de octubre y las que no tengan fecha\\xa0\\n',\n",
              "  '\\n',\n",
              "  'https://t.co/jC2VW968sh                           |               0\\n'],\n",
              " [' La #segunda #fase de las #elecciones parlamentarias comienza en Egipto   https://t.co/DikIanh0tT                                                     |               0\\n'],\n",
              " [' RT @sorluciacaram: Argentina hoy vota el cambio. Eso significa botar al Krichnerismo y sus secuaces @mauriciomacri                                   |              -1\\n'],\n",
              " [' Es HOY. Es ACÁ. Es AHORA! #Cambiemos                                                                                                                 |               0\\n'],\n",
              " [' RT @danielonk: Hoy se vota a ganador...\\n',\n",
              "  '\\n',\n",
              "  '#MejorScioli \\n',\n",
              "  '#YoVotoAScioli \\n',\n",
              "  '#ScioliPresidente \\n',\n",
              "  '#Elecciones2015 https://t.co/H50003uZHQ                    |               1\\n'],\n",
              " [' DIÁLOGO Y CONSENSO\\n',\n",
              "  '\\n',\n",
              "  'PROPUESTA CONCRETA: Scioli es el candidato del consenso, el mismo Scioli de siempre, el que... https://t.co/rJW0yU5G1Q           |               0\\n'],\n",
              " [' @C5N: registrate y vota por @coldplay en https://t.co/SJXU596fvv #videos                                                                             |               0\\n']]"
            ]
          },
          "metadata": {},
          "execution_count": 137
        }
      ]
    },
    {
      "cell_type": "code",
      "source": [
        "import numpy as np"
      ],
      "metadata": {
        "id": "_bHtJP5nac6P"
      },
      "execution_count": 79,
      "outputs": []
    },
    {
      "cell_type": "code",
      "source": [
        "def separar(lista):\n",
        "  concatenacion = ''\n",
        "  for i in lista:\n",
        "    concatenacion = concatenacion+' '+i\n",
        "\n",
        "  tweet =  concatenacion.split('   |   ')[0].replace('\\n','')\n",
        "  try:\n",
        "    polaridad = concatenacion.split('   |   ')[1].replace(' ','').replace('\\n','')\n",
        "  except:\n",
        "    polaridad = np.NaN\n",
        "\n",
        "  return {'tweet':tweet, 'polaridad':polaridad}"
      ],
      "metadata": {
        "id": "6CL8HrpNeZlC"
      },
      "execution_count": 83,
      "outputs": []
    },
    {
      "cell_type": "code",
      "source": [
        "%%time\n",
        "\n",
        "diccionarios = []\n",
        "for tweet in tweets[:1000000]:\n",
        "  diccionarios.append(separar(tweet))"
      ],
      "metadata": {
        "colab": {
          "base_uri": "https://localhost:8080/"
        },
        "id": "f3Bn4Ky4f4Re",
        "outputId": "ef81ef59-0a2d-443a-b9a1-50b1faffe68b"
      },
      "execution_count": 133,
      "outputs": [
        {
          "output_type": "stream",
          "name": "stdout",
          "text": [
            "CPU times: user 2.29 s, sys: 797 ms, total: 3.09 s\n",
            "Wall time: 3.1 s\n"
          ]
        }
      ]
    },
    {
      "cell_type": "code",
      "source": [
        "df = pd.DataFrame(diccionarios).dropna().reset_index(drop=True)"
      ],
      "metadata": {
        "id": "nM-q-hlKgyer"
      },
      "execution_count": 138,
      "outputs": []
    },
    {
      "cell_type": "code",
      "source": [
        "df"
      ],
      "metadata": {
        "colab": {
          "base_uri": "https://localhost:8080/",
          "height": 424
        },
        "id": "J4KIHGG_ytBD",
        "outputId": "bd5cb513-aaab-446a-8350-d8431499c883"
      },
      "execution_count": 139,
      "outputs": [
        {
          "output_type": "execute_result",
          "data": {
            "text/plain": [
              "                                                                                                                                                       tweet  \\\n",
              "0         RT @EncuestaArgenta: 40 MILLONES ELEGIRÁN ENTRE EL #CAMBIO O LA #CONTINUIDAD  #ScioliPresidente  #Balotaje2015  #MañanaVotoMACRI                     \n",
              "1         Un nuevo amanecer historico para la Republica Argentina                                                                                              \n",
              "2         RT @clarincom: ¿No sabés dónde votás? Consultá el padrón electoral ---&gt; https://t.co/gfOFjfzQNY https://t.co/iGy1T3JNFI                           \n",
              "3         RT @JPZvaiks: Ballotage: serán aceptadas las boletas del 25 de octubre y las que no tengan fecha   https://t.co/jC2VW968sh                           \n",
              "4         La #segunda #fase de las #elecciones parlamentarias comienza en Egipto   https://t.co/DikIanh0tT                                                     \n",
              "...                                                                                                                                                      ...   \n",
              "738465    RT @lfechegaray: Al aire desde el bunker de \"Cambiemos\" en Costa Salguero. Operativo Elecciones por @Cadena3Com https://t.co/C8v0GRLz83              \n",
              "738466    RT @BertlemVL: Aquella es presidencial, las comparaciones no son buenas Isnardo. pisando tierra. https://t.co/T4ijUgGWtV                             \n",
              "738467    RT @dannymiche: Djokovic me pregunta si Macri es presidente                                                                                          \n",
              "738468    RT @mauriciomacri: Esperando https://t.co/auWEW9azhy                                                                                                 \n",
              "738469    Y se cerraron todas las mesas. LA ARGENTINA ELIGIÓ!!!!!! 👏👏👏👏👏                                                                                       \n",
              "\n",
              "       polaridad  \n",
              "0              0  \n",
              "1              1  \n",
              "2              0  \n",
              "3              0  \n",
              "4              0  \n",
              "...          ...  \n",
              "738465         0  \n",
              "738466        -1  \n",
              "738467         1  \n",
              "738468         0  \n",
              "738469         0  \n",
              "\n",
              "[738470 rows x 2 columns]"
            ],
            "text/html": [
              "\n",
              "  <div id=\"df-f21db221-b7d8-4cfb-967e-a1b2697ef735\">\n",
              "    <div class=\"colab-df-container\">\n",
              "      <div>\n",
              "<style scoped>\n",
              "    .dataframe tbody tr th:only-of-type {\n",
              "        vertical-align: middle;\n",
              "    }\n",
              "\n",
              "    .dataframe tbody tr th {\n",
              "        vertical-align: top;\n",
              "    }\n",
              "\n",
              "    .dataframe thead th {\n",
              "        text-align: right;\n",
              "    }\n",
              "</style>\n",
              "<table border=\"1\" class=\"dataframe\">\n",
              "  <thead>\n",
              "    <tr style=\"text-align: right;\">\n",
              "      <th></th>\n",
              "      <th>tweet</th>\n",
              "      <th>polaridad</th>\n",
              "    </tr>\n",
              "  </thead>\n",
              "  <tbody>\n",
              "    <tr>\n",
              "      <th>0</th>\n",
              "      <td>RT @EncuestaArgenta: 40 MILLONES ELEGIRÁN ENTRE EL #CAMBIO O LA #CONTINUIDAD  #ScioliPresidente  #Balotaje2015  #MañanaVotoMACRI</td>\n",
              "      <td>0</td>\n",
              "    </tr>\n",
              "    <tr>\n",
              "      <th>1</th>\n",
              "      <td>Un nuevo amanecer historico para la Republica Argentina</td>\n",
              "      <td>1</td>\n",
              "    </tr>\n",
              "    <tr>\n",
              "      <th>2</th>\n",
              "      <td>RT @clarincom: ¿No sabés dónde votás? Consultá el padrón electoral ---&amp;gt; https://t.co/gfOFjfzQNY https://t.co/iGy1T3JNFI</td>\n",
              "      <td>0</td>\n",
              "    </tr>\n",
              "    <tr>\n",
              "      <th>3</th>\n",
              "      <td>RT @JPZvaiks: Ballotage: serán aceptadas las boletas del 25 de octubre y las que no tengan fecha   https://t.co/jC2VW968sh</td>\n",
              "      <td>0</td>\n",
              "    </tr>\n",
              "    <tr>\n",
              "      <th>4</th>\n",
              "      <td>La #segunda #fase de las #elecciones parlamentarias comienza en Egipto   https://t.co/DikIanh0tT</td>\n",
              "      <td>0</td>\n",
              "    </tr>\n",
              "    <tr>\n",
              "      <th>...</th>\n",
              "      <td>...</td>\n",
              "      <td>...</td>\n",
              "    </tr>\n",
              "    <tr>\n",
              "      <th>738465</th>\n",
              "      <td>RT @lfechegaray: Al aire desde el bunker de \"Cambiemos\" en Costa Salguero. Operativo Elecciones por @Cadena3Com https://t.co/C8v0GRLz83</td>\n",
              "      <td>0</td>\n",
              "    </tr>\n",
              "    <tr>\n",
              "      <th>738466</th>\n",
              "      <td>RT @BertlemVL: Aquella es presidencial, las comparaciones no son buenas Isnardo. pisando tierra. https://t.co/T4ijUgGWtV</td>\n",
              "      <td>-1</td>\n",
              "    </tr>\n",
              "    <tr>\n",
              "      <th>738467</th>\n",
              "      <td>RT @dannymiche: Djokovic me pregunta si Macri es presidente</td>\n",
              "      <td>1</td>\n",
              "    </tr>\n",
              "    <tr>\n",
              "      <th>738468</th>\n",
              "      <td>RT @mauriciomacri: Esperando https://t.co/auWEW9azhy</td>\n",
              "      <td>0</td>\n",
              "    </tr>\n",
              "    <tr>\n",
              "      <th>738469</th>\n",
              "      <td>Y se cerraron todas las mesas. LA ARGENTINA ELIGIÓ!!!!!! 👏👏👏👏👏</td>\n",
              "      <td>0</td>\n",
              "    </tr>\n",
              "  </tbody>\n",
              "</table>\n",
              "<p>738470 rows × 2 columns</p>\n",
              "</div>\n",
              "      <button class=\"colab-df-convert\" onclick=\"convertToInteractive('df-f21db221-b7d8-4cfb-967e-a1b2697ef735')\"\n",
              "              title=\"Convert this dataframe to an interactive table.\"\n",
              "              style=\"display:none;\">\n",
              "        \n",
              "  <svg xmlns=\"http://www.w3.org/2000/svg\" height=\"24px\"viewBox=\"0 0 24 24\"\n",
              "       width=\"24px\">\n",
              "    <path d=\"M0 0h24v24H0V0z\" fill=\"none\"/>\n",
              "    <path d=\"M18.56 5.44l.94 2.06.94-2.06 2.06-.94-2.06-.94-.94-2.06-.94 2.06-2.06.94zm-11 1L8.5 8.5l.94-2.06 2.06-.94-2.06-.94L8.5 2.5l-.94 2.06-2.06.94zm10 10l.94 2.06.94-2.06 2.06-.94-2.06-.94-.94-2.06-.94 2.06-2.06.94z\"/><path d=\"M17.41 7.96l-1.37-1.37c-.4-.4-.92-.59-1.43-.59-.52 0-1.04.2-1.43.59L10.3 9.45l-7.72 7.72c-.78.78-.78 2.05 0 2.83L4 21.41c.39.39.9.59 1.41.59.51 0 1.02-.2 1.41-.59l7.78-7.78 2.81-2.81c.8-.78.8-2.07 0-2.86zM5.41 20L4 18.59l7.72-7.72 1.47 1.35L5.41 20z\"/>\n",
              "  </svg>\n",
              "      </button>\n",
              "      \n",
              "  <style>\n",
              "    .colab-df-container {\n",
              "      display:flex;\n",
              "      flex-wrap:wrap;\n",
              "      gap: 12px;\n",
              "    }\n",
              "\n",
              "    .colab-df-convert {\n",
              "      background-color: #E8F0FE;\n",
              "      border: none;\n",
              "      border-radius: 50%;\n",
              "      cursor: pointer;\n",
              "      display: none;\n",
              "      fill: #1967D2;\n",
              "      height: 32px;\n",
              "      padding: 0 0 0 0;\n",
              "      width: 32px;\n",
              "    }\n",
              "\n",
              "    .colab-df-convert:hover {\n",
              "      background-color: #E2EBFA;\n",
              "      box-shadow: 0px 1px 2px rgba(60, 64, 67, 0.3), 0px 1px 3px 1px rgba(60, 64, 67, 0.15);\n",
              "      fill: #174EA6;\n",
              "    }\n",
              "\n",
              "    [theme=dark] .colab-df-convert {\n",
              "      background-color: #3B4455;\n",
              "      fill: #D2E3FC;\n",
              "    }\n",
              "\n",
              "    [theme=dark] .colab-df-convert:hover {\n",
              "      background-color: #434B5C;\n",
              "      box-shadow: 0px 1px 3px 1px rgba(0, 0, 0, 0.15);\n",
              "      filter: drop-shadow(0px 1px 2px rgba(0, 0, 0, 0.3));\n",
              "      fill: #FFFFFF;\n",
              "    }\n",
              "  </style>\n",
              "\n",
              "      <script>\n",
              "        const buttonEl =\n",
              "          document.querySelector('#df-f21db221-b7d8-4cfb-967e-a1b2697ef735 button.colab-df-convert');\n",
              "        buttonEl.style.display =\n",
              "          google.colab.kernel.accessAllowed ? 'block' : 'none';\n",
              "\n",
              "        async function convertToInteractive(key) {\n",
              "          const element = document.querySelector('#df-f21db221-b7d8-4cfb-967e-a1b2697ef735');\n",
              "          const dataTable =\n",
              "            await google.colab.kernel.invokeFunction('convertToInteractive',\n",
              "                                                     [key], {});\n",
              "          if (!dataTable) return;\n",
              "\n",
              "          const docLinkHtml = 'Like what you see? Visit the ' +\n",
              "            '<a target=\"_blank\" href=https://colab.research.google.com/notebooks/data_table.ipynb>data table notebook</a>'\n",
              "            + ' to learn more about interactive tables.';\n",
              "          element.innerHTML = '';\n",
              "          dataTable['output_type'] = 'display_data';\n",
              "          await google.colab.output.renderOutput(dataTable, element);\n",
              "          const docLink = document.createElement('div');\n",
              "          docLink.innerHTML = docLinkHtml;\n",
              "          element.appendChild(docLink);\n",
              "        }\n",
              "      </script>\n",
              "    </div>\n",
              "  </div>\n",
              "  "
            ]
          },
          "metadata": {},
          "execution_count": 139
        }
      ]
    },
    {
      "cell_type": "code",
      "source": [
        "df.to_csv('balotaje.csv')"
      ],
      "metadata": {
        "id": "xd_EIg5z1hop"
      },
      "execution_count": 140,
      "outputs": []
    }
  ]
}