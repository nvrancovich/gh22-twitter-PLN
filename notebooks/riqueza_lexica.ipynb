{
  "nbformat": 4,
  "nbformat_minor": 0,
  "metadata": {
    "colab": {
      "provenance": [],
      "authorship_tag": "ABX9TyOm32Yxg8br2B9w8/ZMlb/k",
      "include_colab_link": true
    },
    "kernelspec": {
      "name": "python3",
      "display_name": "Python 3"
    },
    "language_info": {
      "name": "python"
    }
  },
  "cells": [
    {
      "cell_type": "markdown",
      "metadata": {
        "id": "view-in-github",
        "colab_type": "text"
      },
      "source": [
        "<a href=\"https://colab.research.google.com/github/nvrancovich/gh22-twitter-PLN/blob/main/notebooks/riqueza_lexica.ipynb\" target=\"_parent\"><img src=\"https://colab.research.google.com/assets/colab-badge.svg\" alt=\"Open In Colab\"/></a>"
      ]
    },
    {
      "cell_type": "markdown",
      "source": [
        "# Importacíon"
      ],
      "metadata": {
        "id": "tafIajCvhKX6"
      }
    },
    {
      "cell_type": "code",
      "source": [
        "import pandas as pd\n",
        "\n",
        "pd.set_option('display.max_colwidth', None)"
      ],
      "metadata": {
        "id": "Wc-4cRCg2O9x"
      },
      "execution_count": 1,
      "outputs": []
    },
    {
      "cell_type": "code",
      "source": [
        "url = 'https://drive.google.com/file/d/1IklQ716OMB-ZYETa4NZM6Eq7cJnrDzOK/view?usp=share_link'\n",
        "url='https://drive.google.com/uc?id=' + url.split('/')[-2]\n",
        "df = pd.read_csv(url, index_col=0)"
      ],
      "metadata": {
        "id": "rOcoNqXg2QUt"
      },
      "execution_count": 2,
      "outputs": []
    },
    {
      "cell_type": "code",
      "source": [
        "df.loc[59866]"
      ],
      "metadata": {
        "colab": {
          "base_uri": "https://localhost:8080/"
        },
        "id": "jP-eb6y8ssiv",
        "outputId": "68407987-e0d8-4a26-e826-05467b1b8ec9"
      },
      "execution_count": 3,
      "outputs": [
        {
          "output_type": "execute_result",
          "data": {
            "text/plain": [
              "Date               2022-12-06 01:09:06+00:00\n",
              "Tweet    Pestañela y su show de drama\\n#GH22\n",
              "Name: 59866, dtype: object"
            ]
          },
          "metadata": {},
          "execution_count": 3
        }
      ]
    },
    {
      "cell_type": "markdown",
      "source": [
        "# Limpieza"
      ],
      "metadata": {
        "id": "ie9Q2tWMgWCR"
      }
    },
    {
      "cell_type": "markdown",
      "source": [
        "## La hora está adelantada 3 horas respecto a la de Argentina"
      ],
      "metadata": {
        "id": "3RfQoC8nJk16"
      }
    },
    {
      "cell_type": "code",
      "source": [
        "df.Date = pd.to_datetime(df.Date)\n",
        "df.Date[0]"
      ],
      "metadata": {
        "colab": {
          "base_uri": "https://localhost:8080/"
        },
        "id": "UaA0P0qEK21K",
        "outputId": "af35d7b7-156a-400f-ca46-cffa188a5f97"
      },
      "execution_count": 4,
      "outputs": [
        {
          "output_type": "execute_result",
          "data": {
            "text/plain": [
              "Timestamp('2022-12-08 11:03:54+0000', tz='UTC')"
            ]
          },
          "metadata": {},
          "execution_count": 4
        }
      ]
    },
    {
      "cell_type": "code",
      "source": [
        "df.Date = df.Date - pd.Timedelta(hours=3)\n",
        "df.Date[0]"
      ],
      "metadata": {
        "colab": {
          "base_uri": "https://localhost:8080/"
        },
        "id": "j68w8BhiJqrN",
        "outputId": "d79fb603-be34-423c-f862-7c4f845e947d"
      },
      "execution_count": 5,
      "outputs": [
        {
          "output_type": "execute_result",
          "data": {
            "text/plain": [
              "Timestamp('2022-12-08 08:03:54+0000', tz='UTC')"
            ]
          },
          "metadata": {},
          "execution_count": 5
        }
      ]
    },
    {
      "cell_type": "markdown",
      "source": [
        "## Removiendo todos los tweets que contienen a más de un participante."
      ],
      "metadata": {
        "id": "wFmFxu-ogu9h"
      }
    },
    {
      "cell_type": "code",
      "source": [
        "def filtro(tweet):\n",
        "  contador = 0\n",
        "\n",
        "  participantes = {\n",
        "    'marcos':['marcos','marquitos','primo'],\n",
        "    'tomas':['tomás','holder','tomas'],\n",
        "    'julieta':['julieta','juli'],\n",
        "    'coti':['coti','coty'],\n",
        "    'daniela':['daniela','dani','pestañela'],\n",
        "    'nacho':['nacho'],\n",
        "    'agustin':['agustin','agustín','frodo','agus'],\n",
        "    'maxi':['maxi'],\n",
        "    'alexis':['alexis','cone','conejo'],\n",
        "    'walter':['walter','alfa'],\n",
        "    'romina':['romina','romi'],\n",
        "    'thiago':['thiago'],\n",
        "    'maria':['maria','cata'],\n",
        "    'mora':['mora'],\n",
        "    'lucila':['lucila','tora'],\n",
        "    'juan':['juan'],\n",
        "    'juliana':['juliana','tini']\n",
        "  }\n",
        "\n",
        "  for participante in participantes:\n",
        "    for apodo in participantes[participante]:\n",
        "      if apodo in tweet:\n",
        "        contador += 1\n",
        "        resultado = participante\n",
        "        break\n",
        "  if contador == 1:\n",
        "    return resultado\n",
        "  else:\n",
        "    return False"
      ],
      "metadata": {
        "id": "7lUxAVM-hI9H"
      },
      "execution_count": 6,
      "outputs": []
    },
    {
      "cell_type": "code",
      "source": [
        "df['Tweet'] = df['Tweet'].str.lower()\n",
        "df['Participante'] = df['Tweet'].apply(filtro)"
      ],
      "metadata": {
        "id": "zUcfHJhjhnEF"
      },
      "execution_count": 7,
      "outputs": []
    },
    {
      "cell_type": "code",
      "source": [
        "df.drop(df[df.Participante == False].index, inplace=True)"
      ],
      "metadata": {
        "id": "incjK7V4hw49"
      },
      "execution_count": 8,
      "outputs": []
    },
    {
      "cell_type": "markdown",
      "source": [
        "## Removiendo todos los tweets que contienen links."
      ],
      "metadata": {
        "id": "eM6sh5N6YpYv"
      }
    },
    {
      "cell_type": "code",
      "source": [
        "df[df.Tweet.str.contains('https')].sample(5)"
      ],
      "metadata": {
        "colab": {
          "base_uri": "https://localhost:8080/",
          "height": 206
        },
        "id": "oxJGNIVg2hG9",
        "outputId": "e6092204-c5f8-457b-96fb-7e53efcb1da5"
      },
      "execution_count": 9,
      "outputs": [
        {
          "output_type": "execute_result",
          "data": {
            "text/plain": [
              "                           Date  \\\n",
              "42637 2022-12-06 21:25:46+00:00   \n",
              "46683 2022-12-06 12:24:34+00:00   \n",
              "91153 2022-12-04 23:06:38+00:00   \n",
              "19444 2022-12-07 22:22:48+00:00   \n",
              "25374 2022-12-07 21:21:58+00:00   \n",
              "\n",
              "                                                                                                                                                          Tweet  \\\n",
              "42637                                                                          si marcos, es x ahí...\\n\\n#granhermano #gh #gh22 #gh2022 https://t.co/rvwrg95qdt   \n",
              "46683                                                                                    a mi me enamoran estos 2 jugando #gh22 #gh2022 https://t.co/uudhzneboy   \n",
              "91153                                                                   no se sorprendan si cuando marcos este en placa lo saquen #gh22 https://t.co/tugxmlae5z   \n",
              "19444                                                                                         el discurso de agustin #gh22 #granhermano https://t.co/lh4rafc9ib   \n",
              "25374  ok julieta yo te amo pero con los perros no te metas. por ser ciega, vieja y alzada no la quieren? 😔\\n#gh22 #gh2022 #granhermano https://t.co/qmbyilhhgm   \n",
              "\n",
              "      Participante  \n",
              "42637       marcos  \n",
              "46683         mora  \n",
              "91153       marcos  \n",
              "19444      agustin  \n",
              "25374      julieta  "
            ],
            "text/html": [
              "\n",
              "  <div id=\"df-c6b7d023-b25f-4b3d-9a60-7742095e21b2\">\n",
              "    <div class=\"colab-df-container\">\n",
              "      <div>\n",
              "<style scoped>\n",
              "    .dataframe tbody tr th:only-of-type {\n",
              "        vertical-align: middle;\n",
              "    }\n",
              "\n",
              "    .dataframe tbody tr th {\n",
              "        vertical-align: top;\n",
              "    }\n",
              "\n",
              "    .dataframe thead th {\n",
              "        text-align: right;\n",
              "    }\n",
              "</style>\n",
              "<table border=\"1\" class=\"dataframe\">\n",
              "  <thead>\n",
              "    <tr style=\"text-align: right;\">\n",
              "      <th></th>\n",
              "      <th>Date</th>\n",
              "      <th>Tweet</th>\n",
              "      <th>Participante</th>\n",
              "    </tr>\n",
              "  </thead>\n",
              "  <tbody>\n",
              "    <tr>\n",
              "      <th>42637</th>\n",
              "      <td>2022-12-06 21:25:46+00:00</td>\n",
              "      <td>si marcos, es x ahí...\\n\\n#granhermano #gh #gh22 #gh2022 https://t.co/rvwrg95qdt</td>\n",
              "      <td>marcos</td>\n",
              "    </tr>\n",
              "    <tr>\n",
              "      <th>46683</th>\n",
              "      <td>2022-12-06 12:24:34+00:00</td>\n",
              "      <td>a mi me enamoran estos 2 jugando #gh22 #gh2022 https://t.co/uudhzneboy</td>\n",
              "      <td>mora</td>\n",
              "    </tr>\n",
              "    <tr>\n",
              "      <th>91153</th>\n",
              "      <td>2022-12-04 23:06:38+00:00</td>\n",
              "      <td>no se sorprendan si cuando marcos este en placa lo saquen #gh22 https://t.co/tugxmlae5z</td>\n",
              "      <td>marcos</td>\n",
              "    </tr>\n",
              "    <tr>\n",
              "      <th>19444</th>\n",
              "      <td>2022-12-07 22:22:48+00:00</td>\n",
              "      <td>el discurso de agustin #gh22 #granhermano https://t.co/lh4rafc9ib</td>\n",
              "      <td>agustin</td>\n",
              "    </tr>\n",
              "    <tr>\n",
              "      <th>25374</th>\n",
              "      <td>2022-12-07 21:21:58+00:00</td>\n",
              "      <td>ok julieta yo te amo pero con los perros no te metas. por ser ciega, vieja y alzada no la quieren? 😔\\n#gh22 #gh2022 #granhermano https://t.co/qmbyilhhgm</td>\n",
              "      <td>julieta</td>\n",
              "    </tr>\n",
              "  </tbody>\n",
              "</table>\n",
              "</div>\n",
              "      <button class=\"colab-df-convert\" onclick=\"convertToInteractive('df-c6b7d023-b25f-4b3d-9a60-7742095e21b2')\"\n",
              "              title=\"Convert this dataframe to an interactive table.\"\n",
              "              style=\"display:none;\">\n",
              "        \n",
              "  <svg xmlns=\"http://www.w3.org/2000/svg\" height=\"24px\"viewBox=\"0 0 24 24\"\n",
              "       width=\"24px\">\n",
              "    <path d=\"M0 0h24v24H0V0z\" fill=\"none\"/>\n",
              "    <path d=\"M18.56 5.44l.94 2.06.94-2.06 2.06-.94-2.06-.94-.94-2.06-.94 2.06-2.06.94zm-11 1L8.5 8.5l.94-2.06 2.06-.94-2.06-.94L8.5 2.5l-.94 2.06-2.06.94zm10 10l.94 2.06.94-2.06 2.06-.94-2.06-.94-.94-2.06-.94 2.06-2.06.94z\"/><path d=\"M17.41 7.96l-1.37-1.37c-.4-.4-.92-.59-1.43-.59-.52 0-1.04.2-1.43.59L10.3 9.45l-7.72 7.72c-.78.78-.78 2.05 0 2.83L4 21.41c.39.39.9.59 1.41.59.51 0 1.02-.2 1.41-.59l7.78-7.78 2.81-2.81c.8-.78.8-2.07 0-2.86zM5.41 20L4 18.59l7.72-7.72 1.47 1.35L5.41 20z\"/>\n",
              "  </svg>\n",
              "      </button>\n",
              "      \n",
              "  <style>\n",
              "    .colab-df-container {\n",
              "      display:flex;\n",
              "      flex-wrap:wrap;\n",
              "      gap: 12px;\n",
              "    }\n",
              "\n",
              "    .colab-df-convert {\n",
              "      background-color: #E8F0FE;\n",
              "      border: none;\n",
              "      border-radius: 50%;\n",
              "      cursor: pointer;\n",
              "      display: none;\n",
              "      fill: #1967D2;\n",
              "      height: 32px;\n",
              "      padding: 0 0 0 0;\n",
              "      width: 32px;\n",
              "    }\n",
              "\n",
              "    .colab-df-convert:hover {\n",
              "      background-color: #E2EBFA;\n",
              "      box-shadow: 0px 1px 2px rgba(60, 64, 67, 0.3), 0px 1px 3px 1px rgba(60, 64, 67, 0.15);\n",
              "      fill: #174EA6;\n",
              "    }\n",
              "\n",
              "    [theme=dark] .colab-df-convert {\n",
              "      background-color: #3B4455;\n",
              "      fill: #D2E3FC;\n",
              "    }\n",
              "\n",
              "    [theme=dark] .colab-df-convert:hover {\n",
              "      background-color: #434B5C;\n",
              "      box-shadow: 0px 1px 3px 1px rgba(0, 0, 0, 0.15);\n",
              "      filter: drop-shadow(0px 1px 2px rgba(0, 0, 0, 0.3));\n",
              "      fill: #FFFFFF;\n",
              "    }\n",
              "  </style>\n",
              "\n",
              "      <script>\n",
              "        const buttonEl =\n",
              "          document.querySelector('#df-c6b7d023-b25f-4b3d-9a60-7742095e21b2 button.colab-df-convert');\n",
              "        buttonEl.style.display =\n",
              "          google.colab.kernel.accessAllowed ? 'block' : 'none';\n",
              "\n",
              "        async function convertToInteractive(key) {\n",
              "          const element = document.querySelector('#df-c6b7d023-b25f-4b3d-9a60-7742095e21b2');\n",
              "          const dataTable =\n",
              "            await google.colab.kernel.invokeFunction('convertToInteractive',\n",
              "                                                     [key], {});\n",
              "          if (!dataTable) return;\n",
              "\n",
              "          const docLinkHtml = 'Like what you see? Visit the ' +\n",
              "            '<a target=\"_blank\" href=https://colab.research.google.com/notebooks/data_table.ipynb>data table notebook</a>'\n",
              "            + ' to learn more about interactive tables.';\n",
              "          element.innerHTML = '';\n",
              "          dataTable['output_type'] = 'display_data';\n",
              "          await google.colab.output.renderOutput(dataTable, element);\n",
              "          const docLink = document.createElement('div');\n",
              "          docLink.innerHTML = docLinkHtml;\n",
              "          element.appendChild(docLink);\n",
              "        }\n",
              "      </script>\n",
              "    </div>\n",
              "  </div>\n",
              "  "
            ]
          },
          "metadata": {},
          "execution_count": 9
        }
      ]
    },
    {
      "cell_type": "code",
      "source": [
        "df.drop(df[df.Tweet.str.contains('https')].index, inplace=True)"
      ],
      "metadata": {
        "id": "agNQ6i-sZQjw"
      },
      "execution_count": 10,
      "outputs": []
    },
    {
      "cell_type": "code",
      "source": [
        "df.head(5)"
      ],
      "metadata": {
        "colab": {
          "base_uri": "https://localhost:8080/",
          "height": 206
        },
        "id": "gNMYXiqzZ78Z",
        "outputId": "2d7b1a8f-4edd-4496-f88c-23465b98682a"
      },
      "execution_count": 11,
      "outputs": [
        {
          "output_type": "execute_result",
          "data": {
            "text/plain": [
              "                        Date  \\\n",
              "1  2022-12-08 08:03:18+00:00   \n",
              "13 2022-12-08 07:59:15+00:00   \n",
              "15 2022-12-08 07:58:54+00:00   \n",
              "28 2022-12-08 07:49:34+00:00   \n",
              "39 2022-12-08 07:47:11+00:00   \n",
              "\n",
              "                                                                                                                                                                                                                                        Tweet  \\\n",
              "1                                                                                                                                                                                                         bueno romina yo te voto a vos #gh22   \n",
              "13                                                                                                                                                            ojalá se vaya romina .\\nno la soporto  hace tres semanas.\\n#gh22 \\nbuenos dias.   \n",
              "15                                                                                                                  se imaginan si otra vez la producción mete mano y lo sacan a marcos? colapsan los hospitales. #gh22 #granhermanoargentina   \n",
              "28                                           @rucciaantonella @mariaogong @eeemiliano señora. la producción elige quien se queda y quién se va de #granhermano #gh2022 #gh22. \\nquedó demostrado el domingo pasado.\\nsaludos. \\nfraude en gh.   \n",
              "39  @iszgrl @santi_cruzzz @cbastianberdejo @gh2022ok julieta es súper carismática! y la gente la quiere jajaja \\nhay que tener una mezcla entre ser buen jugador y tener carisma y que la gente te quiera jaja \\n\\n#gh22 #gh2022 #granhermano   \n",
              "\n",
              "   Participante  \n",
              "1        romina  \n",
              "13       romina  \n",
              "15       marcos  \n",
              "28        maria  \n",
              "39      julieta  "
            ],
            "text/html": [
              "\n",
              "  <div id=\"df-fb9ef0e0-25d9-4b95-9d12-98e2225cdd92\">\n",
              "    <div class=\"colab-df-container\">\n",
              "      <div>\n",
              "<style scoped>\n",
              "    .dataframe tbody tr th:only-of-type {\n",
              "        vertical-align: middle;\n",
              "    }\n",
              "\n",
              "    .dataframe tbody tr th {\n",
              "        vertical-align: top;\n",
              "    }\n",
              "\n",
              "    .dataframe thead th {\n",
              "        text-align: right;\n",
              "    }\n",
              "</style>\n",
              "<table border=\"1\" class=\"dataframe\">\n",
              "  <thead>\n",
              "    <tr style=\"text-align: right;\">\n",
              "      <th></th>\n",
              "      <th>Date</th>\n",
              "      <th>Tweet</th>\n",
              "      <th>Participante</th>\n",
              "    </tr>\n",
              "  </thead>\n",
              "  <tbody>\n",
              "    <tr>\n",
              "      <th>1</th>\n",
              "      <td>2022-12-08 08:03:18+00:00</td>\n",
              "      <td>bueno romina yo te voto a vos #gh22</td>\n",
              "      <td>romina</td>\n",
              "    </tr>\n",
              "    <tr>\n",
              "      <th>13</th>\n",
              "      <td>2022-12-08 07:59:15+00:00</td>\n",
              "      <td>ojalá se vaya romina .\\nno la soporto  hace tres semanas.\\n#gh22 \\nbuenos dias.</td>\n",
              "      <td>romina</td>\n",
              "    </tr>\n",
              "    <tr>\n",
              "      <th>15</th>\n",
              "      <td>2022-12-08 07:58:54+00:00</td>\n",
              "      <td>se imaginan si otra vez la producción mete mano y lo sacan a marcos? colapsan los hospitales. #gh22 #granhermanoargentina</td>\n",
              "      <td>marcos</td>\n",
              "    </tr>\n",
              "    <tr>\n",
              "      <th>28</th>\n",
              "      <td>2022-12-08 07:49:34+00:00</td>\n",
              "      <td>@rucciaantonella @mariaogong @eeemiliano señora. la producción elige quien se queda y quién se va de #granhermano #gh2022 #gh22. \\nquedó demostrado el domingo pasado.\\nsaludos. \\nfraude en gh.</td>\n",
              "      <td>maria</td>\n",
              "    </tr>\n",
              "    <tr>\n",
              "      <th>39</th>\n",
              "      <td>2022-12-08 07:47:11+00:00</td>\n",
              "      <td>@iszgrl @santi_cruzzz @cbastianberdejo @gh2022ok julieta es súper carismática! y la gente la quiere jajaja \\nhay que tener una mezcla entre ser buen jugador y tener carisma y que la gente te quiera jaja \\n\\n#gh22 #gh2022 #granhermano</td>\n",
              "      <td>julieta</td>\n",
              "    </tr>\n",
              "  </tbody>\n",
              "</table>\n",
              "</div>\n",
              "      <button class=\"colab-df-convert\" onclick=\"convertToInteractive('df-fb9ef0e0-25d9-4b95-9d12-98e2225cdd92')\"\n",
              "              title=\"Convert this dataframe to an interactive table.\"\n",
              "              style=\"display:none;\">\n",
              "        \n",
              "  <svg xmlns=\"http://www.w3.org/2000/svg\" height=\"24px\"viewBox=\"0 0 24 24\"\n",
              "       width=\"24px\">\n",
              "    <path d=\"M0 0h24v24H0V0z\" fill=\"none\"/>\n",
              "    <path d=\"M18.56 5.44l.94 2.06.94-2.06 2.06-.94-2.06-.94-.94-2.06-.94 2.06-2.06.94zm-11 1L8.5 8.5l.94-2.06 2.06-.94-2.06-.94L8.5 2.5l-.94 2.06-2.06.94zm10 10l.94 2.06.94-2.06 2.06-.94-2.06-.94-.94-2.06-.94 2.06-2.06.94z\"/><path d=\"M17.41 7.96l-1.37-1.37c-.4-.4-.92-.59-1.43-.59-.52 0-1.04.2-1.43.59L10.3 9.45l-7.72 7.72c-.78.78-.78 2.05 0 2.83L4 21.41c.39.39.9.59 1.41.59.51 0 1.02-.2 1.41-.59l7.78-7.78 2.81-2.81c.8-.78.8-2.07 0-2.86zM5.41 20L4 18.59l7.72-7.72 1.47 1.35L5.41 20z\"/>\n",
              "  </svg>\n",
              "      </button>\n",
              "      \n",
              "  <style>\n",
              "    .colab-df-container {\n",
              "      display:flex;\n",
              "      flex-wrap:wrap;\n",
              "      gap: 12px;\n",
              "    }\n",
              "\n",
              "    .colab-df-convert {\n",
              "      background-color: #E8F0FE;\n",
              "      border: none;\n",
              "      border-radius: 50%;\n",
              "      cursor: pointer;\n",
              "      display: none;\n",
              "      fill: #1967D2;\n",
              "      height: 32px;\n",
              "      padding: 0 0 0 0;\n",
              "      width: 32px;\n",
              "    }\n",
              "\n",
              "    .colab-df-convert:hover {\n",
              "      background-color: #E2EBFA;\n",
              "      box-shadow: 0px 1px 2px rgba(60, 64, 67, 0.3), 0px 1px 3px 1px rgba(60, 64, 67, 0.15);\n",
              "      fill: #174EA6;\n",
              "    }\n",
              "\n",
              "    [theme=dark] .colab-df-convert {\n",
              "      background-color: #3B4455;\n",
              "      fill: #D2E3FC;\n",
              "    }\n",
              "\n",
              "    [theme=dark] .colab-df-convert:hover {\n",
              "      background-color: #434B5C;\n",
              "      box-shadow: 0px 1px 3px 1px rgba(0, 0, 0, 0.15);\n",
              "      filter: drop-shadow(0px 1px 2px rgba(0, 0, 0, 0.3));\n",
              "      fill: #FFFFFF;\n",
              "    }\n",
              "  </style>\n",
              "\n",
              "      <script>\n",
              "        const buttonEl =\n",
              "          document.querySelector('#df-fb9ef0e0-25d9-4b95-9d12-98e2225cdd92 button.colab-df-convert');\n",
              "        buttonEl.style.display =\n",
              "          google.colab.kernel.accessAllowed ? 'block' : 'none';\n",
              "\n",
              "        async function convertToInteractive(key) {\n",
              "          const element = document.querySelector('#df-fb9ef0e0-25d9-4b95-9d12-98e2225cdd92');\n",
              "          const dataTable =\n",
              "            await google.colab.kernel.invokeFunction('convertToInteractive',\n",
              "                                                     [key], {});\n",
              "          if (!dataTable) return;\n",
              "\n",
              "          const docLinkHtml = 'Like what you see? Visit the ' +\n",
              "            '<a target=\"_blank\" href=https://colab.research.google.com/notebooks/data_table.ipynb>data table notebook</a>'\n",
              "            + ' to learn more about interactive tables.';\n",
              "          element.innerHTML = '';\n",
              "          dataTable['output_type'] = 'display_data';\n",
              "          await google.colab.output.renderOutput(dataTable, element);\n",
              "          const docLink = document.createElement('div');\n",
              "          docLink.innerHTML = docLinkHtml;\n",
              "          element.appendChild(docLink);\n",
              "        }\n",
              "      </script>\n",
              "    </div>\n",
              "  </div>\n",
              "  "
            ]
          },
          "metadata": {},
          "execution_count": 11
        }
      ]
    },
    {
      "cell_type": "markdown",
      "source": [
        "## Armando una función que remueva las menciones y los '#'"
      ],
      "metadata": {
        "id": "M5p-wIBac3r-"
      }
    },
    {
      "cell_type": "code",
      "source": [
        "import re\n",
        "\n",
        "def limpiar_tweet(tweet):\n",
        "  clean_tweet = re.sub(\"@[A-Za-z0-9_]+\",\"\", tweet)\n",
        "  clean_tweet = re.sub(\"#[A-Za-z0-9_]+\",\"\", clean_tweet)\n",
        "  clean_tweet = clean_tweet.replace('\\n\\n',' ')\n",
        "  clean_tweet = clean_tweet.replace('\\n','')\n",
        "  \n",
        "  return clean_tweet"
      ],
      "metadata": {
        "id": "ek6vcee3U4QG"
      },
      "execution_count": 12,
      "outputs": []
    },
    {
      "cell_type": "code",
      "source": [
        "df['Tweet'] = df['Tweet'].apply(limpiar_tweet)"
      ],
      "metadata": {
        "id": "TubtJSU2aOg4"
      },
      "execution_count": 13,
      "outputs": []
    },
    {
      "cell_type": "code",
      "source": [
        "df"
      ],
      "metadata": {
        "colab": {
          "base_uri": "https://localhost:8080/",
          "height": 424
        },
        "id": "KzoAYGmSajiA",
        "outputId": "df7a9f91-7d1f-411c-deeb-33a0f54259cb"
      },
      "execution_count": 14,
      "outputs": [
        {
          "output_type": "execute_result",
          "data": {
            "text/plain": [
              "                           Date  \\\n",
              "1     2022-12-08 08:03:18+00:00   \n",
              "13    2022-12-08 07:59:15+00:00   \n",
              "15    2022-12-08 07:58:54+00:00   \n",
              "28    2022-12-08 07:49:34+00:00   \n",
              "39    2022-12-08 07:47:11+00:00   \n",
              "...                         ...   \n",
              "99989 2022-12-04 22:39:18+00:00   \n",
              "99993 2022-12-04 22:39:17+00:00   \n",
              "99994 2022-12-04 22:39:17+00:00   \n",
              "99997 2022-12-04 22:39:17+00:00   \n",
              "99998 2022-12-04 22:39:16+00:00   \n",
              "\n",
              "                                                                                                                                                                 Tweet  \\\n",
              "1                                                                                                                                       bueno romina yo te voto a vos    \n",
              "13                                                                                                ojalá se vaya romina .no la soporto  hace tres semanas. buenos dias.   \n",
              "15                                                                     se imaginan si otra vez la producción mete mano y lo sacan a marcos? colapsan los hospitales.     \n",
              "28                                           señora. la producción elige quien se queda y quién se va de   . quedó demostrado el domingo pasado.saludos. fraude en gh.   \n",
              "39         julieta es súper carismática! y la gente la quiere jajaja hay que tener una mezcla entre ser buen jugador y tener carisma y que la gente te quiera jaja       \n",
              "...                                                                                                                                                                ...   \n",
              "99989                                                                                                               tienen qque dejar de poner estas cosas de agustin    \n",
              "99993                                                                                                                                             agustin ya da miedo    \n",
              "99994                                                                                   agustín me tiene podrida literal pedazo de gil. es el cristian u de la salada    \n",
              "99997                                                                                                                             lo que me cuesta odiar a frodo dios    \n",
              "99998                                                                                                                    callate agus ya te hundiste yo te queria wey    \n",
              "\n",
              "      Participante  \n",
              "1           romina  \n",
              "13          romina  \n",
              "15          marcos  \n",
              "28           maria  \n",
              "39         julieta  \n",
              "...            ...  \n",
              "99989      agustin  \n",
              "99993      agustin  \n",
              "99994      agustin  \n",
              "99997      agustin  \n",
              "99998      agustin  \n",
              "\n",
              "[32724 rows x 3 columns]"
            ],
            "text/html": [
              "\n",
              "  <div id=\"df-294c0084-b1a0-4499-8bab-9bb81509bcb4\">\n",
              "    <div class=\"colab-df-container\">\n",
              "      <div>\n",
              "<style scoped>\n",
              "    .dataframe tbody tr th:only-of-type {\n",
              "        vertical-align: middle;\n",
              "    }\n",
              "\n",
              "    .dataframe tbody tr th {\n",
              "        vertical-align: top;\n",
              "    }\n",
              "\n",
              "    .dataframe thead th {\n",
              "        text-align: right;\n",
              "    }\n",
              "</style>\n",
              "<table border=\"1\" class=\"dataframe\">\n",
              "  <thead>\n",
              "    <tr style=\"text-align: right;\">\n",
              "      <th></th>\n",
              "      <th>Date</th>\n",
              "      <th>Tweet</th>\n",
              "      <th>Participante</th>\n",
              "    </tr>\n",
              "  </thead>\n",
              "  <tbody>\n",
              "    <tr>\n",
              "      <th>1</th>\n",
              "      <td>2022-12-08 08:03:18+00:00</td>\n",
              "      <td>bueno romina yo te voto a vos</td>\n",
              "      <td>romina</td>\n",
              "    </tr>\n",
              "    <tr>\n",
              "      <th>13</th>\n",
              "      <td>2022-12-08 07:59:15+00:00</td>\n",
              "      <td>ojalá se vaya romina .no la soporto  hace tres semanas. buenos dias.</td>\n",
              "      <td>romina</td>\n",
              "    </tr>\n",
              "    <tr>\n",
              "      <th>15</th>\n",
              "      <td>2022-12-08 07:58:54+00:00</td>\n",
              "      <td>se imaginan si otra vez la producción mete mano y lo sacan a marcos? colapsan los hospitales.</td>\n",
              "      <td>marcos</td>\n",
              "    </tr>\n",
              "    <tr>\n",
              "      <th>28</th>\n",
              "      <td>2022-12-08 07:49:34+00:00</td>\n",
              "      <td>señora. la producción elige quien se queda y quién se va de   . quedó demostrado el domingo pasado.saludos. fraude en gh.</td>\n",
              "      <td>maria</td>\n",
              "    </tr>\n",
              "    <tr>\n",
              "      <th>39</th>\n",
              "      <td>2022-12-08 07:47:11+00:00</td>\n",
              "      <td>julieta es súper carismática! y la gente la quiere jajaja hay que tener una mezcla entre ser buen jugador y tener carisma y que la gente te quiera jaja</td>\n",
              "      <td>julieta</td>\n",
              "    </tr>\n",
              "    <tr>\n",
              "      <th>...</th>\n",
              "      <td>...</td>\n",
              "      <td>...</td>\n",
              "      <td>...</td>\n",
              "    </tr>\n",
              "    <tr>\n",
              "      <th>99989</th>\n",
              "      <td>2022-12-04 22:39:18+00:00</td>\n",
              "      <td>tienen qque dejar de poner estas cosas de agustin</td>\n",
              "      <td>agustin</td>\n",
              "    </tr>\n",
              "    <tr>\n",
              "      <th>99993</th>\n",
              "      <td>2022-12-04 22:39:17+00:00</td>\n",
              "      <td>agustin ya da miedo</td>\n",
              "      <td>agustin</td>\n",
              "    </tr>\n",
              "    <tr>\n",
              "      <th>99994</th>\n",
              "      <td>2022-12-04 22:39:17+00:00</td>\n",
              "      <td>agustín me tiene podrida literal pedazo de gil. es el cristian u de la salada</td>\n",
              "      <td>agustin</td>\n",
              "    </tr>\n",
              "    <tr>\n",
              "      <th>99997</th>\n",
              "      <td>2022-12-04 22:39:17+00:00</td>\n",
              "      <td>lo que me cuesta odiar a frodo dios</td>\n",
              "      <td>agustin</td>\n",
              "    </tr>\n",
              "    <tr>\n",
              "      <th>99998</th>\n",
              "      <td>2022-12-04 22:39:16+00:00</td>\n",
              "      <td>callate agus ya te hundiste yo te queria wey</td>\n",
              "      <td>agustin</td>\n",
              "    </tr>\n",
              "  </tbody>\n",
              "</table>\n",
              "<p>32724 rows × 3 columns</p>\n",
              "</div>\n",
              "      <button class=\"colab-df-convert\" onclick=\"convertToInteractive('df-294c0084-b1a0-4499-8bab-9bb81509bcb4')\"\n",
              "              title=\"Convert this dataframe to an interactive table.\"\n",
              "              style=\"display:none;\">\n",
              "        \n",
              "  <svg xmlns=\"http://www.w3.org/2000/svg\" height=\"24px\"viewBox=\"0 0 24 24\"\n",
              "       width=\"24px\">\n",
              "    <path d=\"M0 0h24v24H0V0z\" fill=\"none\"/>\n",
              "    <path d=\"M18.56 5.44l.94 2.06.94-2.06 2.06-.94-2.06-.94-.94-2.06-.94 2.06-2.06.94zm-11 1L8.5 8.5l.94-2.06 2.06-.94-2.06-.94L8.5 2.5l-.94 2.06-2.06.94zm10 10l.94 2.06.94-2.06 2.06-.94-2.06-.94-.94-2.06-.94 2.06-2.06.94z\"/><path d=\"M17.41 7.96l-1.37-1.37c-.4-.4-.92-.59-1.43-.59-.52 0-1.04.2-1.43.59L10.3 9.45l-7.72 7.72c-.78.78-.78 2.05 0 2.83L4 21.41c.39.39.9.59 1.41.59.51 0 1.02-.2 1.41-.59l7.78-7.78 2.81-2.81c.8-.78.8-2.07 0-2.86zM5.41 20L4 18.59l7.72-7.72 1.47 1.35L5.41 20z\"/>\n",
              "  </svg>\n",
              "      </button>\n",
              "      \n",
              "  <style>\n",
              "    .colab-df-container {\n",
              "      display:flex;\n",
              "      flex-wrap:wrap;\n",
              "      gap: 12px;\n",
              "    }\n",
              "\n",
              "    .colab-df-convert {\n",
              "      background-color: #E8F0FE;\n",
              "      border: none;\n",
              "      border-radius: 50%;\n",
              "      cursor: pointer;\n",
              "      display: none;\n",
              "      fill: #1967D2;\n",
              "      height: 32px;\n",
              "      padding: 0 0 0 0;\n",
              "      width: 32px;\n",
              "    }\n",
              "\n",
              "    .colab-df-convert:hover {\n",
              "      background-color: #E2EBFA;\n",
              "      box-shadow: 0px 1px 2px rgba(60, 64, 67, 0.3), 0px 1px 3px 1px rgba(60, 64, 67, 0.15);\n",
              "      fill: #174EA6;\n",
              "    }\n",
              "\n",
              "    [theme=dark] .colab-df-convert {\n",
              "      background-color: #3B4455;\n",
              "      fill: #D2E3FC;\n",
              "    }\n",
              "\n",
              "    [theme=dark] .colab-df-convert:hover {\n",
              "      background-color: #434B5C;\n",
              "      box-shadow: 0px 1px 3px 1px rgba(0, 0, 0, 0.15);\n",
              "      filter: drop-shadow(0px 1px 2px rgba(0, 0, 0, 0.3));\n",
              "      fill: #FFFFFF;\n",
              "    }\n",
              "  </style>\n",
              "\n",
              "      <script>\n",
              "        const buttonEl =\n",
              "          document.querySelector('#df-294c0084-b1a0-4499-8bab-9bb81509bcb4 button.colab-df-convert');\n",
              "        buttonEl.style.display =\n",
              "          google.colab.kernel.accessAllowed ? 'block' : 'none';\n",
              "\n",
              "        async function convertToInteractive(key) {\n",
              "          const element = document.querySelector('#df-294c0084-b1a0-4499-8bab-9bb81509bcb4');\n",
              "          const dataTable =\n",
              "            await google.colab.kernel.invokeFunction('convertToInteractive',\n",
              "                                                     [key], {});\n",
              "          if (!dataTable) return;\n",
              "\n",
              "          const docLinkHtml = 'Like what you see? Visit the ' +\n",
              "            '<a target=\"_blank\" href=https://colab.research.google.com/notebooks/data_table.ipynb>data table notebook</a>'\n",
              "            + ' to learn more about interactive tables.';\n",
              "          element.innerHTML = '';\n",
              "          dataTable['output_type'] = 'display_data';\n",
              "          await google.colab.output.renderOutput(dataTable, element);\n",
              "          const docLink = document.createElement('div');\n",
              "          docLink.innerHTML = docLinkHtml;\n",
              "          element.appendChild(docLink);\n",
              "        }\n",
              "      </script>\n",
              "    </div>\n",
              "  </div>\n",
              "  "
            ]
          },
          "metadata": {},
          "execution_count": 14
        }
      ]
    },
    {
      "cell_type": "markdown",
      "source": [
        "## Removiendo signos de puntuación"
      ],
      "metadata": {
        "id": "g_j3BrvipvOQ"
      }
    },
    {
      "cell_type": "code",
      "source": [
        "import string\n",
        "\n",
        "def puntuacion(tweet):\n",
        "  return tweet.translate(str.maketrans('', '', string.punctuation))\n",
        "\n",
        "print(puntuacion('pestañela y su show de drama'))"
      ],
      "metadata": {
        "colab": {
          "base_uri": "https://localhost:8080/"
        },
        "id": "6jjSGzEDp3Pv",
        "outputId": "30be12b4-9ae0-488a-aab5-2b00e5c13565"
      },
      "execution_count": 15,
      "outputs": [
        {
          "output_type": "stream",
          "name": "stdout",
          "text": [
            "pestañela y su show de drama\n"
          ]
        }
      ]
    },
    {
      "cell_type": "code",
      "source": [
        "df['Tweet'] = df['Tweet'].apply(puntuacion)"
      ],
      "metadata": {
        "id": "2rF-iahZqQKd"
      },
      "execution_count": 16,
      "outputs": []
    },
    {
      "cell_type": "code",
      "source": [
        "df.sample(50)"
      ],
      "metadata": {
        "id": "GzdAhwCotoym",
        "outputId": "3eda8421-4992-4cf4-fe88-a947585fe5bc",
        "colab": {
          "base_uri": "https://localhost:8080/",
          "height": 1000
        }
      },
      "execution_count": 17,
      "outputs": [
        {
          "output_type": "execute_result",
          "data": {
            "text/plain": [
              "                           Date  \\\n",
              "99017 2022-12-04 22:45:13+00:00   \n",
              "58793 2022-12-05 22:13:15+00:00   \n",
              "85452 2022-12-04 23:23:40+00:00   \n",
              "84809 2022-12-04 23:25:03+00:00   \n",
              "25142 2022-12-07 21:46:20+00:00   \n",
              "21456 2022-12-07 22:13:55+00:00   \n",
              "57710 2022-12-05 22:19:10+00:00   \n",
              "86835 2022-12-04 23:18:56+00:00   \n",
              "99707 2022-12-04 22:40:34+00:00   \n",
              "36149 2022-12-06 23:15:44+00:00   \n",
              "83566 2022-12-04 23:29:10+00:00   \n",
              "35894 2022-12-06 23:18:04+00:00   \n",
              "36758 2022-12-06 23:12:36+00:00   \n",
              "95693 2022-12-04 22:55:17+00:00   \n",
              "32042 2022-12-07 02:46:02+00:00   \n",
              "9823  2022-12-07 23:05:15+00:00   \n",
              "22143 2022-12-07 22:10:42+00:00   \n",
              "60818 2022-12-05 21:59:29+00:00   \n",
              "63258 2022-12-05 17:46:56+00:00   \n",
              "12437 2022-12-07 22:54:52+00:00   \n",
              "20704 2022-12-07 22:19:31+00:00   \n",
              "76988 2022-12-05 00:00:07+00:00   \n",
              "83890 2022-12-04 23:27:28+00:00   \n",
              "49374 2022-12-06 00:53:05+00:00   \n",
              "5540  2022-12-07 23:47:30+00:00   \n",
              "70522 2022-12-05 01:33:27+00:00   \n",
              "31937 2022-12-07 03:00:09+00:00   \n",
              "89716 2022-12-04 23:09:18+00:00   \n",
              "12631 2022-12-07 22:54:29+00:00   \n",
              "59869 2022-12-05 22:09:05+00:00   \n",
              "87802 2022-12-04 23:15:02+00:00   \n",
              "16597 2022-12-07 22:33:33+00:00   \n",
              "35399 2022-12-06 23:23:58+00:00   \n",
              "5615  2022-12-07 23:46:53+00:00   \n",
              "42456 2022-12-06 21:45:08+00:00   \n",
              "8737  2022-12-07 23:11:24+00:00   \n",
              "27113 2022-12-07 17:30:01+00:00   \n",
              "24759 2022-12-07 21:56:38+00:00   \n",
              "90064 2022-12-04 23:08:40+00:00   \n",
              "4895  2022-12-07 23:53:50+00:00   \n",
              "98174 2022-12-04 22:47:34+00:00   \n",
              "70309 2022-12-05 01:44:29+00:00   \n",
              "56111 2022-12-05 22:29:18+00:00   \n",
              "92880 2022-12-04 23:04:32+00:00   \n",
              "62666 2022-12-05 19:30:57+00:00   \n",
              "57103 2022-12-05 22:22:28+00:00   \n",
              "52069 2022-12-05 23:13:51+00:00   \n",
              "94201 2022-12-04 23:00:42+00:00   \n",
              "19252 2022-12-07 22:23:15+00:00   \n",
              "52383 2022-12-05 23:10:22+00:00   \n",
              "\n",
              "                                                                                                                                                                                                                                                                        Tweet  \\\n",
              "99017                                                                                                                                                                                                                                               matate agustin jajajajaj    \n",
              "58793                                                                                                                                                                                                                        julieta todas somos unas reinas gritalo juliiii    \n",
              "85452                                                                                                                                                                                                          diossss que infumable daniela siempre haciéndose la víctima      \n",
              "84809                                                                                                                                                                                                                deja de llorar daniela nadie te cree dios insoportable     \n",
              "25142                                                                                                                            frodo “estos inútiles hacen 3 pizzas para 15” mientras está tirado en el parque andá a cocinar rey no te vi agarrar una sartén en 2 meses      \n",
              "21456                                                                                                                                                                                                                                  al fin están empezando a votar a maxi    \n",
              "57710                                                                                                                                                                                                             santiago tratando de justificar los comentarios de agustin    \n",
              "86835                                                   amo el juego de marcos  es muy tranquilo  tiene una templanza   y el control mental que tiene es envidiable se aleja de las discusiones para que no le afecte  es muy inteligente y lee la casa mejor que nadie         \n",
              "99707                                                                                                                                                                                                                                              ❌❌❌agustín cancelado❌❌❌      \n",
              "36149                                                                                                                                                                                   callate agustin cerra el orto mogolico de mierda denso del orto ridiculo mal nacido     \n",
              "83566                                                                                                                                                                                                                                   basta con la lástima no es por ahí      \n",
              "35894                                                                                                                                                                                                              por fin muestran cosas de marcos por fin una bien telefe     \n",
              "36758                                                                   me pregunto que tiene que ver la libertad sexual de daniela con el acoso no conocen el significado de consentimiento por dios que este punto siga habiendo gente ignorante y retrogada a ese extremo    \n",
              "95693                                                                                                     todos son lleva y trae pero romina es la menos indicada para señalar a otro por eso a ella no se le puede contar nada que ya anda abriendo la boca y soltando todo    \n",
              "32042                                                                                                                                                                                                        maxi no llega ni a ser suculenta boludo que embole este chabón     \n",
              "9823                                                                                                                                                                                                   pobre marcos mi vidaa la que lo vote le doy cinco tiros en la rodilla    \n",
              "22143                                                                                                                                                                                                                           romina siendo la madre de esa casa parte mil    \n",
              "60818                                                                                                                                                                                                                          la portera mi nueva protegida ojo con la cata    \n",
              "63258         no se si estoy yendo contra la corriente pero con todo lo que hizo y dijo yo no banco a alfa ni en pedo tendrá razón en algunas cosas pero derrapa en muchas otras siempre haciéndose la víctima cuando le cuestionan o lo enfrentan la gente no tiene memoria    \n",
              "12437                                                                                                                                                                                                                                 se tiene que ir agustín es el momento     \n",
              "20704                                                                                                                                                                                                                 es tarado el cone ya 2 veces le anularon la espontanea    \n",
              "76988                                                                                                                                                                 el llanto de daniela va a durar un pedo en una canasta va ser lamisma de siempre       nadie cree esos    \n",
              "83890                                       daniela se merece todo lo lindo si sale va a ser una de las que se gano mucho cariño porque a pesar de que quieran meterse con ella denigrandola como mujer no lo van a lograr tiene el derecho a ser libre sin que la juzguen      \n",
              "49374                                                                                                                                                           es muy obvio ahora no entiendo todos reunidos contra alfa y lleva las voz cantante el que peores cosas dice     \n",
              "5540                                                                                                                                                                                                              ay diooossss que bajen a coti yaaaaaaaaaaaaaaaala detesto     \n",
              "70522                                                                                                                                                                                                                                         yo quería que se vacha daniela    \n",
              "31937                                                                                                                                                                                     julieta habrá muerto mirtha jajaja la va a matar ella de tantas veces q pregunta      \n",
              "89716                                                                                                                                                                                                                                               cooomo q se salvó nacho     \n",
              "12631                                                                                                                                                                                                                                                 uf bien julieta reina     \n",
              "59869                                                                                                                                                                                                                                                julieta basada en esta     \n",
              "87802                                                                                                                                                                                   che re de buena leche romina al hablarlo y acercarse no es para darle tanta vuelta      \n",
              "16597                                                                                                                                                                                        alguien me explica porque cata sabe todo lo que paso no salio hace dosdias raro    \n",
              "35399                                                                                                                                                                                                                            siento que marcos no va a derrapar nunca       \n",
              "5615                                                                                                                                                                                                                                           a quien salva mañana thiago      \n",
              "42456                                                                                                                                                                                   alfa es nefasto increíble como lo quieren inflar además de lo q se infla solo atrasa    \n",
              "8737                                                                                                                                                                      es momento de que marcos sepa el apoyo que tiene q lo saquen primero y se sienta seguro del afuera    \n",
              "27113                                                                                                                                             la producción les dió ropa nueva a todos menos a alfa me parece patético hubiera estado muy bueno ver qué le mandaba a él     \n",
              "24759                                                                                                                                                                                                          que estrés me da escucharte thiago unas ganas de verte afuera    \n",
              "90064                                                                                                                                                                                                                     deja me voy a ver rupaul cómo van a salvar a nacho    \n",
              "4895                                                                                                                                                                                          coti como te estás ganando porotos para que te saquen falsa careta hipócrita      \n",
              "98174                                                                                                                                                                                                             “llevo a todo el call center el padre de nacho” jajajajaj     \n",
              "70309                                                                                                                                                                                      julieta ahora el cuarto d las chicas es todo felicidad todas buenas vibras jajja     \n",
              "56111  cada vez que pienso que agustin no me puede generar mas asco el nivel de repugnancia es lo lamento por la familia de el porque es indefendible e injustificable el dolor debe ser mortal como consejo esperen a que el salga y se haga cargo como el adulto que ya es    \n",
              "92880                                                                                                                                                                                                                                        keeeee nacho  estoy re perdida     \n",
              "62666                                                                                                                              me cuesta creer que aún hay gente que apoya a ese pito de leche y si no estás en la frodoneta sexual sos un tibio pero por favaaaar          \n",
              "57103                                                                                                                                                    ellas se cambian así para que les digan algo dice el incel machisha de agustín no rey lo hacen para ellas mismas       \n",
              "52069                                                                                                                                                   un tape de julieta es el equivalente a un video de un michi durmiendo en la posición más tierna o graciosa que haya     \n",
              "94201                                                                                                                                                                                                                            agustín alto psicópata que se vacha enfermo    \n",
              "19252                                                                                                                                                                                                                                   ya prepare las garras payaso te vas     \n",
              "52383                                                                                                                                                                                                          julieta pelando por primera vez una zanahoria jajajajajaj        \n",
              "\n",
              "      Participante  \n",
              "99017      agustin  \n",
              "58793      julieta  \n",
              "85452      daniela  \n",
              "84809      daniela  \n",
              "25142      agustin  \n",
              "21456         maxi  \n",
              "57710      agustin  \n",
              "86835       marcos  \n",
              "99707      agustin  \n",
              "36149      agustin  \n",
              "83566      daniela  \n",
              "35894       marcos  \n",
              "36758      daniela  \n",
              "95693       romina  \n",
              "32042         maxi  \n",
              "9823        marcos  \n",
              "22143       romina  \n",
              "60818        maria  \n",
              "63258       walter  \n",
              "12437      agustin  \n",
              "20704       alexis  \n",
              "76988      daniela  \n",
              "83890      daniela  \n",
              "49374       walter  \n",
              "5540          coti  \n",
              "70522      daniela  \n",
              "31937      julieta  \n",
              "89716        nacho  \n",
              "12631      julieta  \n",
              "59869      julieta  \n",
              "87802       romina  \n",
              "16597        maria  \n",
              "35399       marcos  \n",
              "5615        thiago  \n",
              "42456       walter  \n",
              "8737        marcos  \n",
              "27113       walter  \n",
              "24759       thiago  \n",
              "90064        nacho  \n",
              "4895          coti  \n",
              "98174        nacho  \n",
              "70309      julieta  \n",
              "56111      agustin  \n",
              "92880        nacho  \n",
              "62666      agustin  \n",
              "57103      agustin  \n",
              "52069      julieta  \n",
              "94201      agustin  \n",
              "19252      agustin  \n",
              "52383      julieta  "
            ],
            "text/html": [
              "\n",
              "  <div id=\"df-b38d1bd4-9911-47e1-962d-556ebbb74687\">\n",
              "    <div class=\"colab-df-container\">\n",
              "      <div>\n",
              "<style scoped>\n",
              "    .dataframe tbody tr th:only-of-type {\n",
              "        vertical-align: middle;\n",
              "    }\n",
              "\n",
              "    .dataframe tbody tr th {\n",
              "        vertical-align: top;\n",
              "    }\n",
              "\n",
              "    .dataframe thead th {\n",
              "        text-align: right;\n",
              "    }\n",
              "</style>\n",
              "<table border=\"1\" class=\"dataframe\">\n",
              "  <thead>\n",
              "    <tr style=\"text-align: right;\">\n",
              "      <th></th>\n",
              "      <th>Date</th>\n",
              "      <th>Tweet</th>\n",
              "      <th>Participante</th>\n",
              "    </tr>\n",
              "  </thead>\n",
              "  <tbody>\n",
              "    <tr>\n",
              "      <th>99017</th>\n",
              "      <td>2022-12-04 22:45:13+00:00</td>\n",
              "      <td>matate agustin jajajajaj</td>\n",
              "      <td>agustin</td>\n",
              "    </tr>\n",
              "    <tr>\n",
              "      <th>58793</th>\n",
              "      <td>2022-12-05 22:13:15+00:00</td>\n",
              "      <td>julieta todas somos unas reinas gritalo juliiii</td>\n",
              "      <td>julieta</td>\n",
              "    </tr>\n",
              "    <tr>\n",
              "      <th>85452</th>\n",
              "      <td>2022-12-04 23:23:40+00:00</td>\n",
              "      <td>diossss que infumable daniela siempre haciéndose la víctima</td>\n",
              "      <td>daniela</td>\n",
              "    </tr>\n",
              "    <tr>\n",
              "      <th>84809</th>\n",
              "      <td>2022-12-04 23:25:03+00:00</td>\n",
              "      <td>deja de llorar daniela nadie te cree dios insoportable</td>\n",
              "      <td>daniela</td>\n",
              "    </tr>\n",
              "    <tr>\n",
              "      <th>25142</th>\n",
              "      <td>2022-12-07 21:46:20+00:00</td>\n",
              "      <td>frodo “estos inútiles hacen 3 pizzas para 15” mientras está tirado en el parque andá a cocinar rey no te vi agarrar una sartén en 2 meses</td>\n",
              "      <td>agustin</td>\n",
              "    </tr>\n",
              "    <tr>\n",
              "      <th>21456</th>\n",
              "      <td>2022-12-07 22:13:55+00:00</td>\n",
              "      <td>al fin están empezando a votar a maxi</td>\n",
              "      <td>maxi</td>\n",
              "    </tr>\n",
              "    <tr>\n",
              "      <th>57710</th>\n",
              "      <td>2022-12-05 22:19:10+00:00</td>\n",
              "      <td>santiago tratando de justificar los comentarios de agustin</td>\n",
              "      <td>agustin</td>\n",
              "    </tr>\n",
              "    <tr>\n",
              "      <th>86835</th>\n",
              "      <td>2022-12-04 23:18:56+00:00</td>\n",
              "      <td>amo el juego de marcos  es muy tranquilo  tiene una templanza   y el control mental que tiene es envidiable se aleja de las discusiones para que no le afecte  es muy inteligente y lee la casa mejor que nadie</td>\n",
              "      <td>marcos</td>\n",
              "    </tr>\n",
              "    <tr>\n",
              "      <th>99707</th>\n",
              "      <td>2022-12-04 22:40:34+00:00</td>\n",
              "      <td>❌❌❌agustín cancelado❌❌❌</td>\n",
              "      <td>agustin</td>\n",
              "    </tr>\n",
              "    <tr>\n",
              "      <th>36149</th>\n",
              "      <td>2022-12-06 23:15:44+00:00</td>\n",
              "      <td>callate agustin cerra el orto mogolico de mierda denso del orto ridiculo mal nacido</td>\n",
              "      <td>agustin</td>\n",
              "    </tr>\n",
              "    <tr>\n",
              "      <th>83566</th>\n",
              "      <td>2022-12-04 23:29:10+00:00</td>\n",
              "      <td>basta con la lástima no es por ahí</td>\n",
              "      <td>daniela</td>\n",
              "    </tr>\n",
              "    <tr>\n",
              "      <th>35894</th>\n",
              "      <td>2022-12-06 23:18:04+00:00</td>\n",
              "      <td>por fin muestran cosas de marcos por fin una bien telefe</td>\n",
              "      <td>marcos</td>\n",
              "    </tr>\n",
              "    <tr>\n",
              "      <th>36758</th>\n",
              "      <td>2022-12-06 23:12:36+00:00</td>\n",
              "      <td>me pregunto que tiene que ver la libertad sexual de daniela con el acoso no conocen el significado de consentimiento por dios que este punto siga habiendo gente ignorante y retrogada a ese extremo</td>\n",
              "      <td>daniela</td>\n",
              "    </tr>\n",
              "    <tr>\n",
              "      <th>95693</th>\n",
              "      <td>2022-12-04 22:55:17+00:00</td>\n",
              "      <td>todos son lleva y trae pero romina es la menos indicada para señalar a otro por eso a ella no se le puede contar nada que ya anda abriendo la boca y soltando todo</td>\n",
              "      <td>romina</td>\n",
              "    </tr>\n",
              "    <tr>\n",
              "      <th>32042</th>\n",
              "      <td>2022-12-07 02:46:02+00:00</td>\n",
              "      <td>maxi no llega ni a ser suculenta boludo que embole este chabón</td>\n",
              "      <td>maxi</td>\n",
              "    </tr>\n",
              "    <tr>\n",
              "      <th>9823</th>\n",
              "      <td>2022-12-07 23:05:15+00:00</td>\n",
              "      <td>pobre marcos mi vidaa la que lo vote le doy cinco tiros en la rodilla</td>\n",
              "      <td>marcos</td>\n",
              "    </tr>\n",
              "    <tr>\n",
              "      <th>22143</th>\n",
              "      <td>2022-12-07 22:10:42+00:00</td>\n",
              "      <td>romina siendo la madre de esa casa parte mil</td>\n",
              "      <td>romina</td>\n",
              "    </tr>\n",
              "    <tr>\n",
              "      <th>60818</th>\n",
              "      <td>2022-12-05 21:59:29+00:00</td>\n",
              "      <td>la portera mi nueva protegida ojo con la cata</td>\n",
              "      <td>maria</td>\n",
              "    </tr>\n",
              "    <tr>\n",
              "      <th>63258</th>\n",
              "      <td>2022-12-05 17:46:56+00:00</td>\n",
              "      <td>no se si estoy yendo contra la corriente pero con todo lo que hizo y dijo yo no banco a alfa ni en pedo tendrá razón en algunas cosas pero derrapa en muchas otras siempre haciéndose la víctima cuando le cuestionan o lo enfrentan la gente no tiene memoria</td>\n",
              "      <td>walter</td>\n",
              "    </tr>\n",
              "    <tr>\n",
              "      <th>12437</th>\n",
              "      <td>2022-12-07 22:54:52+00:00</td>\n",
              "      <td>se tiene que ir agustín es el momento</td>\n",
              "      <td>agustin</td>\n",
              "    </tr>\n",
              "    <tr>\n",
              "      <th>20704</th>\n",
              "      <td>2022-12-07 22:19:31+00:00</td>\n",
              "      <td>es tarado el cone ya 2 veces le anularon la espontanea</td>\n",
              "      <td>alexis</td>\n",
              "    </tr>\n",
              "    <tr>\n",
              "      <th>76988</th>\n",
              "      <td>2022-12-05 00:00:07+00:00</td>\n",
              "      <td>el llanto de daniela va a durar un pedo en una canasta va ser lamisma de siempre       nadie cree esos</td>\n",
              "      <td>daniela</td>\n",
              "    </tr>\n",
              "    <tr>\n",
              "      <th>83890</th>\n",
              "      <td>2022-12-04 23:27:28+00:00</td>\n",
              "      <td>daniela se merece todo lo lindo si sale va a ser una de las que se gano mucho cariño porque a pesar de que quieran meterse con ella denigrandola como mujer no lo van a lograr tiene el derecho a ser libre sin que la juzguen</td>\n",
              "      <td>daniela</td>\n",
              "    </tr>\n",
              "    <tr>\n",
              "      <th>49374</th>\n",
              "      <td>2022-12-06 00:53:05+00:00</td>\n",
              "      <td>es muy obvio ahora no entiendo todos reunidos contra alfa y lleva las voz cantante el que peores cosas dice</td>\n",
              "      <td>walter</td>\n",
              "    </tr>\n",
              "    <tr>\n",
              "      <th>5540</th>\n",
              "      <td>2022-12-07 23:47:30+00:00</td>\n",
              "      <td>ay diooossss que bajen a coti yaaaaaaaaaaaaaaaala detesto</td>\n",
              "      <td>coti</td>\n",
              "    </tr>\n",
              "    <tr>\n",
              "      <th>70522</th>\n",
              "      <td>2022-12-05 01:33:27+00:00</td>\n",
              "      <td>yo quería que se vacha daniela</td>\n",
              "      <td>daniela</td>\n",
              "    </tr>\n",
              "    <tr>\n",
              "      <th>31937</th>\n",
              "      <td>2022-12-07 03:00:09+00:00</td>\n",
              "      <td>julieta habrá muerto mirtha jajaja la va a matar ella de tantas veces q pregunta</td>\n",
              "      <td>julieta</td>\n",
              "    </tr>\n",
              "    <tr>\n",
              "      <th>89716</th>\n",
              "      <td>2022-12-04 23:09:18+00:00</td>\n",
              "      <td>cooomo q se salvó nacho</td>\n",
              "      <td>nacho</td>\n",
              "    </tr>\n",
              "    <tr>\n",
              "      <th>12631</th>\n",
              "      <td>2022-12-07 22:54:29+00:00</td>\n",
              "      <td>uf bien julieta reina</td>\n",
              "      <td>julieta</td>\n",
              "    </tr>\n",
              "    <tr>\n",
              "      <th>59869</th>\n",
              "      <td>2022-12-05 22:09:05+00:00</td>\n",
              "      <td>julieta basada en esta</td>\n",
              "      <td>julieta</td>\n",
              "    </tr>\n",
              "    <tr>\n",
              "      <th>87802</th>\n",
              "      <td>2022-12-04 23:15:02+00:00</td>\n",
              "      <td>che re de buena leche romina al hablarlo y acercarse no es para darle tanta vuelta</td>\n",
              "      <td>romina</td>\n",
              "    </tr>\n",
              "    <tr>\n",
              "      <th>16597</th>\n",
              "      <td>2022-12-07 22:33:33+00:00</td>\n",
              "      <td>alguien me explica porque cata sabe todo lo que paso no salio hace dosdias raro</td>\n",
              "      <td>maria</td>\n",
              "    </tr>\n",
              "    <tr>\n",
              "      <th>35399</th>\n",
              "      <td>2022-12-06 23:23:58+00:00</td>\n",
              "      <td>siento que marcos no va a derrapar nunca</td>\n",
              "      <td>marcos</td>\n",
              "    </tr>\n",
              "    <tr>\n",
              "      <th>5615</th>\n",
              "      <td>2022-12-07 23:46:53+00:00</td>\n",
              "      <td>a quien salva mañana thiago</td>\n",
              "      <td>thiago</td>\n",
              "    </tr>\n",
              "    <tr>\n",
              "      <th>42456</th>\n",
              "      <td>2022-12-06 21:45:08+00:00</td>\n",
              "      <td>alfa es nefasto increíble como lo quieren inflar además de lo q se infla solo atrasa</td>\n",
              "      <td>walter</td>\n",
              "    </tr>\n",
              "    <tr>\n",
              "      <th>8737</th>\n",
              "      <td>2022-12-07 23:11:24+00:00</td>\n",
              "      <td>es momento de que marcos sepa el apoyo que tiene q lo saquen primero y se sienta seguro del afuera</td>\n",
              "      <td>marcos</td>\n",
              "    </tr>\n",
              "    <tr>\n",
              "      <th>27113</th>\n",
              "      <td>2022-12-07 17:30:01+00:00</td>\n",
              "      <td>la producción les dió ropa nueva a todos menos a alfa me parece patético hubiera estado muy bueno ver qué le mandaba a él</td>\n",
              "      <td>walter</td>\n",
              "    </tr>\n",
              "    <tr>\n",
              "      <th>24759</th>\n",
              "      <td>2022-12-07 21:56:38+00:00</td>\n",
              "      <td>que estrés me da escucharte thiago unas ganas de verte afuera</td>\n",
              "      <td>thiago</td>\n",
              "    </tr>\n",
              "    <tr>\n",
              "      <th>90064</th>\n",
              "      <td>2022-12-04 23:08:40+00:00</td>\n",
              "      <td>deja me voy a ver rupaul cómo van a salvar a nacho</td>\n",
              "      <td>nacho</td>\n",
              "    </tr>\n",
              "    <tr>\n",
              "      <th>4895</th>\n",
              "      <td>2022-12-07 23:53:50+00:00</td>\n",
              "      <td>coti como te estás ganando porotos para que te saquen falsa careta hipócrita</td>\n",
              "      <td>coti</td>\n",
              "    </tr>\n",
              "    <tr>\n",
              "      <th>98174</th>\n",
              "      <td>2022-12-04 22:47:34+00:00</td>\n",
              "      <td>“llevo a todo el call center el padre de nacho” jajajajaj</td>\n",
              "      <td>nacho</td>\n",
              "    </tr>\n",
              "    <tr>\n",
              "      <th>70309</th>\n",
              "      <td>2022-12-05 01:44:29+00:00</td>\n",
              "      <td>julieta ahora el cuarto d las chicas es todo felicidad todas buenas vibras jajja</td>\n",
              "      <td>julieta</td>\n",
              "    </tr>\n",
              "    <tr>\n",
              "      <th>56111</th>\n",
              "      <td>2022-12-05 22:29:18+00:00</td>\n",
              "      <td>cada vez que pienso que agustin no me puede generar mas asco el nivel de repugnancia es lo lamento por la familia de el porque es indefendible e injustificable el dolor debe ser mortal como consejo esperen a que el salga y se haga cargo como el adulto que ya es</td>\n",
              "      <td>agustin</td>\n",
              "    </tr>\n",
              "    <tr>\n",
              "      <th>92880</th>\n",
              "      <td>2022-12-04 23:04:32+00:00</td>\n",
              "      <td>keeeee nacho  estoy re perdida</td>\n",
              "      <td>nacho</td>\n",
              "    </tr>\n",
              "    <tr>\n",
              "      <th>62666</th>\n",
              "      <td>2022-12-05 19:30:57+00:00</td>\n",
              "      <td>me cuesta creer que aún hay gente que apoya a ese pito de leche y si no estás en la frodoneta sexual sos un tibio pero por favaaaar</td>\n",
              "      <td>agustin</td>\n",
              "    </tr>\n",
              "    <tr>\n",
              "      <th>57103</th>\n",
              "      <td>2022-12-05 22:22:28+00:00</td>\n",
              "      <td>ellas se cambian así para que les digan algo dice el incel machisha de agustín no rey lo hacen para ellas mismas</td>\n",
              "      <td>agustin</td>\n",
              "    </tr>\n",
              "    <tr>\n",
              "      <th>52069</th>\n",
              "      <td>2022-12-05 23:13:51+00:00</td>\n",
              "      <td>un tape de julieta es el equivalente a un video de un michi durmiendo en la posición más tierna o graciosa que haya</td>\n",
              "      <td>julieta</td>\n",
              "    </tr>\n",
              "    <tr>\n",
              "      <th>94201</th>\n",
              "      <td>2022-12-04 23:00:42+00:00</td>\n",
              "      <td>agustín alto psicópata que se vacha enfermo</td>\n",
              "      <td>agustin</td>\n",
              "    </tr>\n",
              "    <tr>\n",
              "      <th>19252</th>\n",
              "      <td>2022-12-07 22:23:15+00:00</td>\n",
              "      <td>ya prepare las garras payaso te vas</td>\n",
              "      <td>agustin</td>\n",
              "    </tr>\n",
              "    <tr>\n",
              "      <th>52383</th>\n",
              "      <td>2022-12-05 23:10:22+00:00</td>\n",
              "      <td>julieta pelando por primera vez una zanahoria jajajajajaj</td>\n",
              "      <td>julieta</td>\n",
              "    </tr>\n",
              "  </tbody>\n",
              "</table>\n",
              "</div>\n",
              "      <button class=\"colab-df-convert\" onclick=\"convertToInteractive('df-b38d1bd4-9911-47e1-962d-556ebbb74687')\"\n",
              "              title=\"Convert this dataframe to an interactive table.\"\n",
              "              style=\"display:none;\">\n",
              "        \n",
              "  <svg xmlns=\"http://www.w3.org/2000/svg\" height=\"24px\"viewBox=\"0 0 24 24\"\n",
              "       width=\"24px\">\n",
              "    <path d=\"M0 0h24v24H0V0z\" fill=\"none\"/>\n",
              "    <path d=\"M18.56 5.44l.94 2.06.94-2.06 2.06-.94-2.06-.94-.94-2.06-.94 2.06-2.06.94zm-11 1L8.5 8.5l.94-2.06 2.06-.94-2.06-.94L8.5 2.5l-.94 2.06-2.06.94zm10 10l.94 2.06.94-2.06 2.06-.94-2.06-.94-.94-2.06-.94 2.06-2.06.94z\"/><path d=\"M17.41 7.96l-1.37-1.37c-.4-.4-.92-.59-1.43-.59-.52 0-1.04.2-1.43.59L10.3 9.45l-7.72 7.72c-.78.78-.78 2.05 0 2.83L4 21.41c.39.39.9.59 1.41.59.51 0 1.02-.2 1.41-.59l7.78-7.78 2.81-2.81c.8-.78.8-2.07 0-2.86zM5.41 20L4 18.59l7.72-7.72 1.47 1.35L5.41 20z\"/>\n",
              "  </svg>\n",
              "      </button>\n",
              "      \n",
              "  <style>\n",
              "    .colab-df-container {\n",
              "      display:flex;\n",
              "      flex-wrap:wrap;\n",
              "      gap: 12px;\n",
              "    }\n",
              "\n",
              "    .colab-df-convert {\n",
              "      background-color: #E8F0FE;\n",
              "      border: none;\n",
              "      border-radius: 50%;\n",
              "      cursor: pointer;\n",
              "      display: none;\n",
              "      fill: #1967D2;\n",
              "      height: 32px;\n",
              "      padding: 0 0 0 0;\n",
              "      width: 32px;\n",
              "    }\n",
              "\n",
              "    .colab-df-convert:hover {\n",
              "      background-color: #E2EBFA;\n",
              "      box-shadow: 0px 1px 2px rgba(60, 64, 67, 0.3), 0px 1px 3px 1px rgba(60, 64, 67, 0.15);\n",
              "      fill: #174EA6;\n",
              "    }\n",
              "\n",
              "    [theme=dark] .colab-df-convert {\n",
              "      background-color: #3B4455;\n",
              "      fill: #D2E3FC;\n",
              "    }\n",
              "\n",
              "    [theme=dark] .colab-df-convert:hover {\n",
              "      background-color: #434B5C;\n",
              "      box-shadow: 0px 1px 3px 1px rgba(0, 0, 0, 0.15);\n",
              "      filter: drop-shadow(0px 1px 2px rgba(0, 0, 0, 0.3));\n",
              "      fill: #FFFFFF;\n",
              "    }\n",
              "  </style>\n",
              "\n",
              "      <script>\n",
              "        const buttonEl =\n",
              "          document.querySelector('#df-b38d1bd4-9911-47e1-962d-556ebbb74687 button.colab-df-convert');\n",
              "        buttonEl.style.display =\n",
              "          google.colab.kernel.accessAllowed ? 'block' : 'none';\n",
              "\n",
              "        async function convertToInteractive(key) {\n",
              "          const element = document.querySelector('#df-b38d1bd4-9911-47e1-962d-556ebbb74687');\n",
              "          const dataTable =\n",
              "            await google.colab.kernel.invokeFunction('convertToInteractive',\n",
              "                                                     [key], {});\n",
              "          if (!dataTable) return;\n",
              "\n",
              "          const docLinkHtml = 'Like what you see? Visit the ' +\n",
              "            '<a target=\"_blank\" href=https://colab.research.google.com/notebooks/data_table.ipynb>data table notebook</a>'\n",
              "            + ' to learn more about interactive tables.';\n",
              "          element.innerHTML = '';\n",
              "          dataTable['output_type'] = 'display_data';\n",
              "          await google.colab.output.renderOutput(dataTable, element);\n",
              "          const docLink = document.createElement('div');\n",
              "          docLink.innerHTML = docLinkHtml;\n",
              "          element.appendChild(docLink);\n",
              "        }\n",
              "      </script>\n",
              "    </div>\n",
              "  </div>\n",
              "  "
            ]
          },
          "metadata": {},
          "execution_count": 17
        }
      ]
    },
    {
      "cell_type": "markdown",
      "source": [
        "## Tokenización"
      ],
      "metadata": {
        "id": "jVlpdOfyjywK"
      }
    },
    {
      "cell_type": "code",
      "source": [
        "import nltk\n",
        "import itertools"
      ],
      "metadata": {
        "id": "-TFeBrVzkUNm"
      },
      "execution_count": 24,
      "outputs": []
    },
    {
      "cell_type": "code",
      "source": [
        "pattern = r'''(?x)                  # Flag para iniciar el modo verbose\n",
        "              (?:[A-Z]\\.)+            # Hace match con abreviaciones como U.S.A.\n",
        "              | \\w+(?:-\\w+)*         # Hace match con palabras que pueden tener un guión interno\n",
        "              | \\$?\\d+(?:\\.\\d+)?%?  # Hace match con dinero o porcentajes como $15.5 o 100%\n",
        "              | \\.\\.\\.              # Hace match con puntos suspensivos\n",
        "              | [][.,;\"'?():-_`]    # Hace match con signos de puntuación\n",
        "'''"
      ],
      "metadata": {
        "id": "VErh6-tykYu4"
      },
      "execution_count": 20,
      "outputs": []
    },
    {
      "cell_type": "code",
      "source": [
        "%%time\n",
        "tweets = list(df.Tweet)\n",
        "print((len(tweets)*0.01175)/60)\n",
        "\n",
        "for tweet in tweets:\n",
        "  tweets[tweets.index(tweet)] = nltk.regexp_tokenize(tweet, pattern)"
      ],
      "metadata": {
        "colab": {
          "base_uri": "https://localhost:8080/"
        },
        "id": "HwJe2X-Qj4EQ",
        "outputId": "c2fad88b-a533-4bbf-c7a2-3cefbdcaaec2"
      },
      "execution_count": 21,
      "outputs": [
        {
          "output_type": "stream",
          "name": "stdout",
          "text": [
            "6.40845\n",
            "CPU times: user 16.2 s, sys: 134 ms, total: 16.3 s\n",
            "Wall time: 16.3 s\n"
          ]
        }
      ]
    },
    {
      "cell_type": "code",
      "source": [
        "palabras = list(itertools.chain.from_iterable(tweets))"
      ],
      "metadata": {
        "id": "pIH-4Cr2khr3"
      },
      "execution_count": 28,
      "outputs": []
    },
    {
      "cell_type": "code",
      "source": [
        "len(palabras)"
      ],
      "metadata": {
        "colab": {
          "base_uri": "https://localhost:8080/"
        },
        "id": "g2vaK6e1lK-q",
        "outputId": "21c64dce-680a-44c1-92e1-d39ffc01e945"
      },
      "execution_count": 29,
      "outputs": [
        {
          "output_type": "execute_result",
          "data": {
            "text/plain": [
              "471659"
            ]
          },
          "metadata": {},
          "execution_count": 29
        }
      ]
    },
    {
      "cell_type": "code",
      "source": [
        "len(list(set(palabras)))"
      ],
      "metadata": {
        "colab": {
          "base_uri": "https://localhost:8080/"
        },
        "id": "AKoXKH4Qlxne",
        "outputId": "0ce34ba2-82fa-435e-cd0a-cf32f5dda2af"
      },
      "execution_count": 32,
      "outputs": [
        {
          "output_type": "execute_result",
          "data": {
            "text/plain": [
              "24246"
            ]
          },
          "metadata": {},
          "execution_count": 32
        }
      ]
    },
    {
      "cell_type": "code",
      "source": [
        "round(len(list(set(palabras))) / len(palabras),2)"
      ],
      "metadata": {
        "colab": {
          "base_uri": "https://localhost:8080/"
        },
        "id": "vyTNUdccnB1t",
        "outputId": "2e1c2bc5-d341-413a-9e7e-9b8cf3fd5c96"
      },
      "execution_count": 38,
      "outputs": [
        {
          "output_type": "execute_result",
          "data": {
            "text/plain": [
              "0.05"
            ]
          },
          "metadata": {},
          "execution_count": 38
        }
      ]
    },
    {
      "cell_type": "code",
      "source": [
        "print(f'La riqueza lexica de este corpus es de {round(len(list(set(palabras))) / len(palabras),2)}')"
      ],
      "metadata": {
        "colab": {
          "base_uri": "https://localhost:8080/"
        },
        "id": "aJVoSTUql9xf",
        "outputId": "bcafee26-2eb8-4a1e-b278-eecfe33d6067"
      },
      "execution_count": 39,
      "outputs": [
        {
          "output_type": "stream",
          "name": "stdout",
          "text": [
            "La riqueza lexica de este corpus es de 0.05\n"
          ]
        }
      ]
    }
  ]
}