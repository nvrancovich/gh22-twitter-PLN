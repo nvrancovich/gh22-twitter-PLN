{
  "cells": [
    {
      "cell_type": "markdown",
      "metadata": {
        "id": "view-in-github",
        "colab_type": "text"
      },
      "source": [
        "<a href=\"https://colab.research.google.com/github/nvrancovich/gh22-twitter-PLN/blob/main/notebooks/extract.ipynb\" target=\"_parent\"><img src=\"https://colab.research.google.com/assets/colab-badge.svg\" alt=\"Open In Colab\"/></a>"
      ]
    },
    {
      "cell_type": "code",
      "execution_count": 1,
      "metadata": {
        "colab": {
          "base_uri": "https://localhost:8080/"
        },
        "id": "pWAXAkqoLTu7",
        "outputId": "2aa293c6-b108-4e6e-8d3d-5cb73ef027bb"
      },
      "outputs": [
        {
          "output_type": "stream",
          "name": "stdout",
          "text": [
            "Looking in indexes: https://pypi.org/simple, https://us-python.pkg.dev/colab-wheels/public/simple/\n",
            "Collecting snscrape\n",
            "  Downloading snscrape-0.4.3.20220106-py3-none-any.whl (59 kB)\n",
            "\u001b[K     |████████████████████████████████| 59 kB 3.1 MB/s \n",
            "\u001b[?25hRequirement already satisfied: beautifulsoup4 in /usr/local/lib/python3.8/dist-packages (from snscrape) (4.6.3)\n",
            "Requirement already satisfied: requests[socks] in /usr/local/lib/python3.8/dist-packages (from snscrape) (2.23.0)\n",
            "Requirement already satisfied: lxml in /usr/local/lib/python3.8/dist-packages (from snscrape) (4.9.2)\n",
            "Requirement already satisfied: pytz in /usr/local/lib/python3.8/dist-packages (from snscrape) (2022.6)\n",
            "Requirement already satisfied: filelock in /usr/local/lib/python3.8/dist-packages (from snscrape) (3.8.2)\n",
            "Requirement already satisfied: urllib3!=1.25.0,!=1.25.1,<1.26,>=1.21.1 in /usr/local/lib/python3.8/dist-packages (from requests[socks]->snscrape) (1.24.3)\n",
            "Requirement already satisfied: idna<3,>=2.5 in /usr/local/lib/python3.8/dist-packages (from requests[socks]->snscrape) (2.10)\n",
            "Requirement already satisfied: chardet<4,>=3.0.2 in /usr/local/lib/python3.8/dist-packages (from requests[socks]->snscrape) (3.0.4)\n",
            "Requirement already satisfied: certifi>=2017.4.17 in /usr/local/lib/python3.8/dist-packages (from requests[socks]->snscrape) (2022.12.7)\n",
            "Requirement already satisfied: PySocks!=1.5.7,>=1.5.6 in /usr/local/lib/python3.8/dist-packages (from requests[socks]->snscrape) (1.7.1)\n",
            "Installing collected packages: snscrape\n",
            "Successfully installed snscrape-0.4.3.20220106\n"
          ]
        }
      ],
      "source": [
        "!pip install snscrape"
      ]
    },
    {
      "cell_type": "code",
      "execution_count": 12,
      "metadata": {
        "id": "29KbzktLLpT1"
      },
      "outputs": [],
      "source": [
        "import snscrape.modules.twitter as sntwitter\n",
        "import pandas as pd\n",
        "from IPython.display import clear_output"
      ]
    },
    {
      "cell_type": "code",
      "execution_count": 3,
      "metadata": {
        "id": "d_jQFZMaggIM",
        "colab": {
          "base_uri": "https://localhost:8080/"
        },
        "outputId": "c2b88bcd-2626-4330-8670-666e3e6419dc"
      },
      "outputs": [
        {
          "output_type": "stream",
          "name": "stdout",
          "text": [
            "Mounted at /content/gdrive/\n"
          ]
        }
      ],
      "source": [
        "from google.colab import drive\n",
        "\n",
        "drive.mount('/content/gdrive/', force_remount=True)"
      ]
    },
    {
      "cell_type": "code",
      "source": [
        "df = pd.read_csv('/content/gdrive/MyDrive/proyectos/gh22-twitter-PLN/data/tweets.csv', index_col=0)"
      ],
      "metadata": {
        "id": "5duC3Lp09ztH"
      },
      "execution_count": 17,
      "outputs": []
    },
    {
      "cell_type": "code",
      "source": [
        "query = f\"(#GH22 OR #GH2022) lang:es since:{df.Date[0].split(' ')[0]}\"\n",
        "query"
      ],
      "metadata": {
        "colab": {
          "base_uri": "https://localhost:8080/",
          "height": 35
        },
        "id": "3yyVuhVK99BG",
        "outputId": "58bd1990-37b9-43bf-a3d2-18bec69f18e4"
      },
      "execution_count": 11,
      "outputs": [
        {
          "output_type": "execute_result",
          "data": {
            "text/plain": [
              "'(#GH22 OR #GH2022) lang:es since:2022-12-17'"
            ],
            "application/vnd.google.colaboratory.intrinsic+json": {
              "type": "string"
            }
          },
          "metadata": {},
          "execution_count": 11
        }
      ]
    },
    {
      "cell_type": "code",
      "execution_count": 13,
      "metadata": {
        "id": "YR95GStNLzDV",
        "colab": {
          "base_uri": "https://localhost:8080/"
        },
        "outputId": "fb6370a6-cf9d-4e9a-c628-f4fc9c3828b3"
      },
      "outputs": [
        {
          "output_type": "stream",
          "name": "stdout",
          "text": [
            "2022-12-17 00:00:01+00:00\n",
            "185170\n",
            "CPU times: user 15min 55s, sys: 1min 10s, total: 17min 6s\n",
            "Wall time: 1h 40min 59s\n"
          ]
        }
      ],
      "source": [
        "%%time\n",
        "\n",
        "tweets = []\n",
        "\n",
        "for tweet in sntwitter.TwitterSearchScraper(query).get_items():\n",
        "        clear_output(wait=True)\n",
        "        tweets.append([tweet.date, tweet.content])\n",
        "        print(tweet.date)\n",
        "        print(len(tweets))\n",
        "        \n",
        "        \n",
        "df2 = pd.DataFrame(tweets, columns=['Date', 'Tweet'])"
      ]
    },
    {
      "cell_type": "code",
      "execution_count": 20,
      "metadata": {
        "id": "QNyk5ATWHVdk",
        "colab": {
          "base_uri": "https://localhost:8080/"
        },
        "outputId": "6b1fd8be-04cb-4969-fb49-a6ba2aea43eb"
      },
      "outputs": [
        {
          "output_type": "stream",
          "name": "stdout",
          "text": [
            "<class 'pandas.core.frame.DataFrame'>\n",
            "RangeIndex: 185170 entries, 0 to 185169\n",
            "Data columns (total 2 columns):\n",
            " #   Column  Non-Null Count   Dtype              \n",
            "---  ------  --------------   -----              \n",
            " 0   Date    185170 non-null  datetime64[ns, UTC]\n",
            " 1   Tweet   185170 non-null  object             \n",
            "dtypes: datetime64[ns, UTC](1), object(1)\n",
            "memory usage: 2.8+ MB\n"
          ]
        }
      ],
      "source": [
        "df2.info()"
      ]
    },
    {
      "cell_type": "code",
      "source": [
        "df.Date = pd.to_datetime(df.Date)\n",
        "df.info()"
      ],
      "metadata": {
        "colab": {
          "base_uri": "https://localhost:8080/"
        },
        "id": "X5s6c5RKWd49",
        "outputId": "1058e857-d1c7-495a-9055-16f23f9c6f52"
      },
      "execution_count": 23,
      "outputs": [
        {
          "output_type": "stream",
          "name": "stdout",
          "text": [
            "<class 'pandas.core.frame.DataFrame'>\n",
            "Int64Index: 2639677 entries, 0 to 2639676\n",
            "Data columns (total 2 columns):\n",
            " #   Column  Dtype              \n",
            "---  ------  -----              \n",
            " 0   Date    datetime64[ns, UTC]\n",
            " 1   Tweet   object             \n",
            "dtypes: datetime64[ns, UTC](1), object(1)\n",
            "memory usage: 124.9+ MB\n"
          ]
        }
      ]
    },
    {
      "cell_type": "code",
      "source": [
        "df = df2.append(df).drop_duplicates()"
      ],
      "metadata": {
        "id": "8BI7YPbyW76d"
      },
      "execution_count": 30,
      "outputs": []
    },
    {
      "cell_type": "code",
      "execution_count": 31,
      "metadata": {
        "id": "GgAgz7zN0ksO"
      },
      "outputs": [],
      "source": [
        "df.to_csv('/content/gdrive/MyDrive/proyectos/gh22-twitter-PLN/data/tweets.csv')"
      ]
    }
  ],
  "metadata": {
    "colab": {
      "provenance": [],
      "authorship_tag": "ABX9TyNuq0H8wb3tsxOMjOwrnZWy",
      "include_colab_link": true
    },
    "kernelspec": {
      "display_name": "Python 3",
      "name": "python3"
    },
    "language_info": {
      "name": "python"
    }
  },
  "nbformat": 4,
  "nbformat_minor": 0
}